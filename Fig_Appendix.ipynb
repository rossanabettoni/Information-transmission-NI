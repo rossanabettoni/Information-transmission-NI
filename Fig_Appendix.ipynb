{
 "cells": [
  {
   "cell_type": "markdown",
   "metadata": {},
   "source": [
    "# Import packages "
   ]
  },
  {
   "cell_type": "code",
   "execution_count": 3,
   "metadata": {},
   "outputs": [],
   "source": [
    "import numpy as np\n",
    "import sympy as sp\n",
    "import pandas as pd\n",
    "import seaborn as sb\n",
    "import matplotlib.pyplot as plt \n",
    "import scipy\n",
    "import scipy.optimize as optimize\n",
    "import random\n",
    "import time\n",
    "from scipy.integrate import odeint\n",
    "from sympy import symbols, solve, simplify\n",
    "from scipy.optimize import curve_fit, minimize, brute, differential_evolution\n",
    "from matplotlib.pyplot import cm\n",
    "from decimal import *\n",
    "\n",
    "plt.rcParams.update({'font.size': 10})"
   ]
  },
  {
   "cell_type": "markdown",
   "metadata": {},
   "source": [
    "# Model \n"
   ]
  },
  {
   "cell_type": "markdown",
   "metadata": {},
   "source": [
    "Define the standard values of the parameters"
   ]
  },
  {
   "cell_type": "code",
   "execution_count": 6,
   "metadata": {},
   "outputs": [],
   "source": [
    "# Normalized concentration of molecules c_v = [FGF]/[FGF]_0, e_v = [eph]/[eph]_0\n",
    "c_v =  5  \n",
    "e_v =  5 \n",
    "\n",
    "# Total number of molecules in each cell\n",
    "Rt_v =  2000 # Total number of FGF receptors\n",
    "Qt_v =  2000 # Total number of ephrin receptors\n",
    "Erkt_v= 4000 # Total number of ERK molecules\n",
    "\n",
    "# Values of the reaction rates  \n",
    "Kd =  60 \n",
    "kd_plus_v = 0.1  \n",
    "kd_minus_v = Kd*kd_plus_v\n",
    " \n",
    "Ke =  40 \n",
    "ke_plus_v = 0.1 \n",
    "ke_minus_v = Ke*ke_plus_v\n",
    "\n",
    "k_v =  0.2\n",
    "Vs_v=  1*k_v \n",
    "Vrg_v = 0.4*k_v\n",
    "\n",
    "# Values of half saturation constants\n",
    "Ks_v =  200  \n",
    "Krg_v =  200 \n",
    "\n",
    "# Parameters input distribution (Lognormal distr centered around mu_c, with variance sigma_F^2)\n",
    "mu_c = 5 \n",
    "sigma_F =1\n",
    "\n",
    "# Cell surface\n",
    "Scell_v = 6000 # Total cell surface (um^2)\n",
    "S1max = Scell_v/2 # Maximum surface exposed to FGF\n",
    "S1_v = 0.5*Scell_v # Surface exposed to FGF (um^2)\n",
    "\n",
    "# The surface exposed to FGF (S1) is related to the surface exposed to ephrin (S2) through:\n",
    "# S2 = A*S1+B*Scell  (Eq.5) \n",
    "A = -1.1265\n",
    "B = 0.9092"
   ]
  },
  {
   "cell_type": "markdown",
   "metadata": {},
   "source": [
    "Function to compute the number of active ERK molecules ($E^*$) (Eq. 1-3)"
   ]
  },
  {
   "cell_type": "code",
   "execution_count": 8,
   "metadata": {},
   "outputs": [],
   "source": [
    "# Function to compute ERK as a function of the input \n",
    "def ERK(S1, args):\n",
    "\n",
    "    kd_plus, kd_minus, ke_plus, ke_minus, c, e, k, Ks, Krg, Vs, Vrg, Qt, Rt, Erkt, Scell = args\n",
    "    \n",
    "    A = - 1.1265\n",
    "    B = 0.9092\n",
    "\n",
    "    S2= A*S1 +B*Scell\n",
    "    Rb_ss = Rt*S1/Scell*c/(c+kd_minus/kd_plus)\n",
    "    Qb_ss = Qt*S2/Scell*e/(e+ke_minus/ke_plus)\n",
    "    Erk_ss = Erkt* (Vs*Rb_ss**2/(Rb_ss**2+Ks**2)) /(Vs*Rb_ss**2/(Rb_ss**2+Ks**2) + Vrg*Qb_ss/(Qb_ss+Krg)+ k)\n",
    "        \n",
    "    return Erk_ss"
   ]
  },
  {
   "cell_type": "markdown",
   "metadata": {},
   "source": [
    "Function to compute the noise in the number of active ERK molecules ($\\sigma_e$) (Eq. 22 - 28)"
   ]
  },
  {
   "cell_type": "code",
   "execution_count": 10,
   "metadata": {},
   "outputs": [],
   "source": [
    "def sigma(S1, args):\n",
    "    \n",
    "    kd_plus, kd_minus, ke_plus, ke_minus, c, e, k, Ks, Krg, Vs, Vrg, Qt, Rt, Erkt, Scell = args\n",
    "    \n",
    "    A = -1.1265\n",
    "    B = 0.9092\n",
    "    Pi = np.pi\n",
    "    \n",
    "    S2= A*S1 +B*Scell\n",
    "    Rb_ss = Rt*S1/Scell*c/(c+kd_minus/kd_plus)\n",
    "    Qb_ss = Qt*S2/Scell*e/(e+ke_minus/ke_plus)\n",
    "    Erk_ss = Erkt* (Vs*Rb_ss**2/(Rb_ss**2+Ks**2)) /(Vs*Rb_ss**2/(Rb_ss**2+Ks**2) + Vrg*Qb_ss/(Qb_ss+Krg)+ k)\n",
    "\n",
    "    Tau_c = (kd_plus*c+kd_minus)**(-1)\n",
    "    Tau_e = (ke_plus*e+ke_minus)**(-1)\n",
    "    Tau_E = (k + Vs*Rb_ss**2/(Rb_ss**2+Ks**2) + Vrg*Qb_ss/(Qb_ss+Krg) )**(-1)\n",
    "\n",
    "    Gamma_R = 2*Vs*Rb_ss*Ks**2/(Rb_ss**2+Ks**2)**2*(Erkt-Erk_ss)\n",
    "    Gamma_Q = Vrg*Krg/(Qb_ss+Krg)**2*Erk_ss\n",
    "\n",
    "    n_ss = c*kd_plus/(kd_minus + c*kd_plus)\n",
    "    m_ss = e*ke_plus/(ke_minus + e*ke_plus)\n",
    "\n",
    "    A_R = 2/Tau_c*Rt*S1/Scell*n_ss*(1-n_ss)\n",
    "    A_Q = 2/Tau_e*Qt*S2/Scell*m_ss*(1-m_ss)\n",
    "    A_E = 2*Vs*Rb_ss**2/(Rb_ss**2+Ks**2)*(Erkt-Erk_ss)\n",
    "\n",
    "    sigma_R = Gamma_R**2*A_R/2*(Tau_c-Tau_E)/(Tau_E**(-2)-Tau_c**(-2))\n",
    "    sigma_Q = Gamma_Q**2*A_Q/2*(Tau_e-Tau_E)/(Tau_E**(-2)-Tau_e**(-2))\n",
    "    sigma_E = A_E/2*Tau_E\n",
    "\n",
    "    sigma2 = sigma_R + sigma_Q + sigma_E\n",
    "        \n",
    "    return np.float32(np.sqrt(sigma2))\n"
   ]
  },
  {
   "cell_type": "markdown",
   "metadata": {},
   "source": [
    "Function to compute the derivative $dE^*/dS_1$"
   ]
  },
  {
   "cell_type": "code",
   "execution_count": 12,
   "metadata": {},
   "outputs": [],
   "source": [
    "# Compute the derivative of ERK with respect to the input \n",
    "def dERK(S1, args):\n",
    "    \n",
    "    kd_plus, kd_minus, ke_plus, ke_minus, c, e, k, Ks, Krg, Vs, Vrg, Qt, Rt, Erkt, Scell = args\n",
    "    \n",
    "    A = -1.1265\n",
    "    B = 0.9092\n",
    "    \n",
    "    S2= A*S1 +B*Scell\n",
    "    Rb_ss = Rt*S1/Scell*c/(c+kd_minus/kd_plus)\n",
    "    Qb_ss = Qt*S2/Scell*e/(e+ke_minus/ke_plus)\n",
    "    Erk_ss = Erkt* (Vs*Rb_ss**2/(Rb_ss**2+Ks**2)) /(Vs*Rb_ss**2/(Rb_ss**2+Ks**2) + Vrg*Qb_ss/(Qb_ss+Krg)+ k)\n",
    "\n",
    "    A_R = Vs*Rb_ss**2/(Rb_ss**2+Ks**2)\n",
    "    A_Q = Vrg*Qb_ss/(Qb_ss+Krg)\n",
    "    \n",
    "    dAR_dRb = Vs*2*Ks**2*Rb_ss/(Rb_ss**2+Ks**2)**2\n",
    "    dAQ_dQb = Vrg*Krg/(Qb_ss+Krg)**2\n",
    "    \n",
    "    dRb_dS1 = Rt/Scell*c/(c+kd_minus/kd_plus)\n",
    "    dQb_dS1 = -Qt*A/Scell*e/(e+ke_minus/ke_plus)\n",
    "    \n",
    "    dE_dS1 = Erkt* ((A_Q+k)*dAR_dRb*dRb_dS1 - A_R*dAQ_dQb*dQb_dS1)/(A_R+A_Q+k)**2 \n",
    "        \n",
    "    return dE_dS1"
   ]
  },
  {
   "cell_type": "markdown",
   "metadata": {},
   "source": [
    "## Information transmission"
   ]
  },
  {
   "cell_type": "markdown",
   "metadata": {},
   "source": [
    "Function to define the vector of S1 "
   ]
  },
  {
   "cell_type": "code",
   "execution_count": 15,
   "metadata": {},
   "outputs": [],
   "source": [
    "def inputrangeS1(S1_max, lb= -5, num=50):\n",
    "    S1m = 10**S1_max\n",
    "    \n",
    "    S1_temp1= np.logspace(lb, S1_max,num)\n",
    "    S1_temp2= S1m-S1_temp1\n",
    "    \n",
    "    S1_temp= np.sort(np.concatenate((S1_temp1, S1_temp2), 0))\n",
    "\n",
    "    return S1_temp"
   ]
  },
  {
   "cell_type": "markdown",
   "metadata": {},
   "source": [
    "Function to compute the maximal information transmitted between ERK and S1 ($I^*$), and the optimal distribution ($P^*(S_1)$)"
   ]
  },
  {
   "cell_type": "code",
   "execution_count": 17,
   "metadata": {},
   "outputs": [],
   "source": [
    " # The only constraint on the distribution is normalization\n",
    "def maxInfo(S1, args):\n",
    "    \n",
    "    kd_plus, kd_minus, ke_plus, ke_minus, c, e, k, Ks, Krg, Vs, Vrg, Qt, Rt, Erkt, Scell = args\n",
    "    \n",
    "    Erk = ERK(S1, args=args) \n",
    "    sigm = sigma(S1, args=args)\n",
    "    dErk = dERK(S1, args=args)\n",
    "    \n",
    "    P = np.abs(dErk)/(sigm*np.sqrt(2*np.pi*np.exp(1)))\n",
    "    Z = np.trapz(P,S1)\n",
    "    Pstar = P/Z \n",
    "    I= np.log2(Z) \n",
    "    \n",
    "    return I, Pstar"
   ]
  },
  {
   "cell_type": "markdown",
   "metadata": {},
   "source": [
    "Function to compute the maximal information transmitted between ERK and S1 ($I^*$), and the optimal distribution ($P^*(S_1)$) in the presence of the external constraint $S_1^{tot}$: $<S_1> = S_1^{tot}$"
   ]
  },
  {
   "cell_type": "code",
   "execution_count": 19,
   "metadata": {},
   "outputs": [],
   "source": [
    "# Constraints: the optimal distribution of inputs is normalised & <S1> = S1tot\n",
    "def maxInfo_S1tot(S1, args, S1tot= 100, la=1e-2, lb=0, th= 100):\n",
    "        \n",
    "    Scell = args[-1]\n",
    "    \n",
    "    # Check that S1tot < Scell\n",
    "    if S1tot > Scell:\n",
    "        return 'S1tot is too high'\n",
    "    \n",
    "    Erk = ERK(S1, args=args) \n",
    "    sigm = sigma(S1, args=args)\n",
    "    dErk = dERK(S1, args=args)\n",
    "    \n",
    "    # Find the best value of l with the bisection method:\n",
    "    \n",
    "    # Check that <S1>(la) < S1tot and  <S1>(lb) > S1tot\n",
    "    Pa = 1/np.sqrt(2*np.pi*np.exp(1))*np.abs(dErk)/sigm*np.exp(-la*S1) # Compute the opt distrib for l=la\n",
    "    Pb = 1/np.sqrt(2*np.pi*np.exp(1))*np.abs(dErk)/sigm*np.exp(-lb*S1) # Compute the opt distrib for l=lb\n",
    "    \n",
    "    Za = np.trapz(Pa,S1) # Compute the normalization constant\n",
    "    Zb = np.trapz(Pb,S1)\n",
    "    \n",
    "    S1mean_a = np.trapz(Pa/Za*S1, S1) # Compute <S1>(la)\n",
    "    S1mean_b = np.trapz(Pb/Zb*S1, S1) # Compute <S1>(lb)\n",
    "    \n",
    "    if S1mean_a > S1tot: \n",
    "        print('<S1>(la)=',S1mean_a)\n",
    "        return 'The lower bound on l (la) is too low'\n",
    "        \n",
    "    if S1mean_b < S1tot: \n",
    "        print('<S1>(lb)=',S1mean_b)\n",
    "        return 'The upper bound on l (lb) is too high'\n",
    "    \n",
    "    lc = (la+lb)/2\n",
    "    Pc = 1/np.sqrt(2*np.pi*np.exp(1))*np.abs(dErk)/sigm*np.exp(-lc*S1) # Compute the opt distrib for l=lc\n",
    "    Zc = np.trapz(Pc,S1)\n",
    "    S1mean_c = np.trapz(Pc/Zc*S1, S1) # Compute <S1>(lc)\n",
    "    \n",
    "    diff0 = np.abs(S1tot- S1mean_c).tolist()\n",
    "    diff = np.abs(S1tot- S1mean_c).tolist()\n",
    "\n",
    "    while (diff>= th): \n",
    "        lc = (la+lb)/2\n",
    "        Pa = 1/np.sqrt(2*np.pi*np.exp(1))*np.abs(dErk)/sigm*np.exp(-la*S1) # Compute the opt distrib for l=la\n",
    "        Za = np.trapz(Pa,S1)\n",
    "        S1mean_a = np.trapz(Pa/Za*S1, S1) # Compute <S1>(la)\n",
    "        \n",
    "        Pc = 1/np.sqrt(2*np.pi*np.exp(1))*np.abs(dErk)/sigm*np.exp(-lc*S1) # Compute the opt distrib for l=lc\n",
    "        Zc = np.trapz(Pc,S1)\n",
    "        S1mean_c = np.trapz(Pc/Zc*S1, S1) # Compute <S1>(lc)\n",
    "        \n",
    "        diff = np.abs(S1tot- S1mean_c).tolist()\n",
    "        \n",
    "        if S1tot > S1mean_c:\n",
    "            la=lc\n",
    "        else:\n",
    "            lb=lc\n",
    "    \n",
    "    l = lc\n",
    "    \n",
    "    # Compute the optimal distr and the max information\n",
    "    P = 1/np.sqrt(2*np.pi*np.exp(1))*np.abs(dErk)/sigm*np.exp(-l*S1)\n",
    "    Z = np.trapz(P,S1) \n",
    "    S1mean = np.trapz(P/Z*S1, S1) \n",
    "    I= np.log2(Z)+l/np.log(2)*S1tot\n",
    "    \n",
    "    return I, P/Z\n"
   ]
  },
  {
   "cell_type": "markdown",
   "metadata": {},
   "source": [
    "# Figures"
   ]
  },
  {
   "cell_type": "markdown",
   "metadata": {},
   "source": [
    "## Fig. 5"
   ]
  },
  {
   "cell_type": "markdown",
   "metadata": {},
   "source": [
    "Compute the optimal distribution $P^*(S_1)$ in the absence of external constraints"
   ]
  },
  {
   "cell_type": "code",
   "execution_count": 23,
   "metadata": {},
   "outputs": [],
   "source": [
    "Scell_v = 6000 \n",
    "Smax = 1/2*Scell_v \n",
    "S1_temp = np.logspace(-7, np.log10(Smax), 500) \n",
    "\n",
    "c_v = 40\n",
    "S1tot_v= 200\n",
    "\n",
    "args = [kd_plus_v, kd_minus_v, ke_plus_v, ke_minus_v, c_v, e_v, k_v, Ks_v, Krg_v, Vs_v, Vrg_v, Qt_v,\\\n",
    "       Rt_v, Erkt_v, Scell_v]\n",
    "\n",
    "# Compute the maximal information transmitted and the optiamal input distribution\n",
    "I, PS1_S1tot = maxInfo(S1_temp, args)\n",
    "\n",
    "# Compute ERK(S1)\n",
    "E_temp = ERK(S1_temp, args) "
   ]
  },
  {
   "cell_type": "code",
   "execution_count": 24,
   "metadata": {},
   "outputs": [
    {
     "data": {
      "image/png": "[encoded data removed]",
      "text/plain": [
       "<Figure size 390x250 with 2 Axes>"
      ]
     },
     "metadata": {},
     "output_type": "display_data"
    }
   ],
   "source": [
    "# Figure\n",
    "fig, ax1 = plt.subplots(figsize=(3.9,2.5))\n",
    "\n",
    "color1 = 'tab:red'\n",
    "color2 = 'darkorange'\n",
    "\n",
    "ax1.set_xlabel('$S_1$ ($\\\\mu m^2$)', fontsize=10)\n",
    "ax1.set_ylabel('P$^*$($S_1$)', fontsize=10, color=color1) \n",
    "ax1.plot(S1_temp, PS1_S1tot, color=color1, linewidth=1.5)\n",
    "ax1.tick_params(axis='y', labelcolor=color2)\n",
    "ax1.spines['left'].set_color(color1)\n",
    "ax1.tick_params(axis='y', colors=color1) \n",
    "\n",
    "ax2 = ax1.twinx()  \n",
    "ax2.set_ylabel('E$^*$', fontsize=10, color=color2)  \n",
    "\n",
    "plt.plot(S1_temp, E_temp, '-', color=color2, linewidth=1.5)\n",
    "ax2.spines['left'].set_color(color1)\n",
    "ax2.spines['right'].set_color(color2)\n",
    "ax2.tick_params(axis='y', colors=color2)\n",
    "\n",
    "fig.tight_layout() \n",
    "plt.show()"
   ]
  },
  {
   "cell_type": "markdown",
   "metadata": {},
   "source": [
    "## Fig. 6"
   ]
  },
  {
   "cell_type": "markdown",
   "metadata": {},
   "source": [
    "Compute the maximal information transmitted for different values of the constraint $<S_1> = S_1^{tot}$"
   ]
  },
  {
   "cell_type": "code",
   "execution_count": 27,
   "metadata": {},
   "outputs": [],
   "source": [
    "S1tot_temp = np.linspace(50,3000, 40)\n",
    "\n",
    "Smax= Scell_v\n",
    "S1_temp = inputrangeS1( np.log10(Smax),lb= -15, num=200)[1:] \n",
    "\n",
    "args = [kd_plus_v, kd_minus_v, ke_plus_v, ke_minus_v, c_v, e_v, k_v, Ks_v, Krg_v, Vs_v, Vrg_v, Qt_v,\\\n",
    "       Rt_v, Erkt_v, Scell_v]\n",
    "\n",
    "# Compute the maximal transmitted information as a function of S1tot\n",
    "I_S1tot = []\n",
    "Pstar_S1tot = []   \n",
    "for i in range(len(S1tot_temp)):\n",
    "    IS1_max_S1tot, PS1_S1tot = maxInfo_S1tot(S1_temp, args, S1tot= S1tot_temp[i], la=1e0, lb=-1e-1, th=0.1)\n",
    "    I_S1tot.append(IS1_max_S1tot)\n",
    "    Pstar_S1tot.append(PS1_S1tot)\n"
   ]
  },
  {
   "cell_type": "code",
   "execution_count": 28,
   "metadata": {},
   "outputs": [
    {
     "data": {
      "image/png": "[encoded data removed]",
      "text/plain": [
       "<Figure size 310x250 with 1 Axes>"
      ]
     },
     "metadata": {},
     "output_type": "display_data"
    }
   ],
   "source": [
    "# Figure \n",
    "color = cm.YlOrRd(np.linspace(0.1, 1, len(S1tot_temp)))\n",
    "\n",
    "plt.figure(figsize=(3.1,2.5))\n",
    "plt.plot(S1tot_temp, I_S1tot, '-', color='k',label='$I^*(S_1^{tot})$')\n",
    "plt.ylabel('I*($S_1$; E*) (bits)')\n",
    "plt.xlabel('$S_1^{tot}$ $(\\\\mu m^2)$')\n",
    "\n",
    "plt.axvline(x= S1tot_temp[np.where(I_S1tot== np.max(I_S1tot))], linestyle= '--', color='grey')\n",
    "\n",
    "plt.tight_layout()\n",
    "plt.show()"
   ]
  },
  {
   "cell_type": "code",
   "execution_count": null,
   "metadata": {},
   "outputs": [],
   "source": []
  }
 ],
 "metadata": {
  "kernelspec": {
   "display_name": "Python 3 (ipykernel)",
   "language": "python",
   "name": "python3"
  },
  "language_info": {
   "codemirror_mode": {
    "name": "ipython",
    "version": 3
   },
   "file_extension": ".py",
   "mimetype": "text/x-python",
   "name": "python",
   "nbconvert_exporter": "python",
   "pygments_lexer": "ipython3",
   "version": "3.12.4"
  }
 },
 "nbformat": 4,
 "nbformat_minor": 4
}
