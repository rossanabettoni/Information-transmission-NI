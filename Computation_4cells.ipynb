{
 "cells": [
  {
   "cell_type": "markdown",
   "id": "58122ee1-df0b-49fe-9918-fda562c88d94",
   "metadata": {},
   "source": [
    "# Computation 4-cell case\n",
    "\n",
    "Code to compute the transmitted information $I(c; \\{ E_A^*, E_B^*, E_C^*, E_D^* \\})$ for all the possible combinations of $S_1^A, S_1^B, S_1^C, S_1^D$. These data are necessary to reproduce Fig. 4(b) and 4(c). \n",
    "\n",
    "The code takes a long time to run ($\\simeq$ 2 days with ncore = 40). To reproduce quickly Fig. 4(b) and 4(c) use Fig_4cells.ipynb with Info_4cells.txt, S1B_4c.txt, S1C_4c.txt, S1D_4c.txt uploaded in https://github.com/rossanabettoni/Information-transmission-NI. \n"
   ]
  },
  {
   "cell_type": "markdown",
   "id": "bb380fa5-5631-41a4-bbd7-e9042e939d18",
   "metadata": {},
   "source": [
    "# Import packages "
   ]
  },
  {
   "cell_type": "code",
   "execution_count": null,
   "id": "7408ad90-c9dc-43a7-bfb0-75c88bb77412",
   "metadata": {},
   "outputs": [],
   "source": [
    "import numpy as np\n",
    "from scipy.special import xlogy\n",
    "import multiprocessing as mp \n",
    "import os "
   ]
  },
  {
   "cell_type": "code",
   "execution_count": null,
   "id": "e203be84-89b2-4ac2-aae6-bbece8cef424",
   "metadata": {},
   "outputs": [],
   "source": [
    "# Set the number of cores for multiprocessing = to the number of available cores\n",
    "ncore = os.cpu_count()"
   ]
  },
  {
   "cell_type": "markdown",
   "id": "9cda26ab-ddef-48d7-a3ff-f7d4f89ff85b",
   "metadata": {},
   "source": [
    "# Model "
   ]
  },
  {
   "cell_type": "markdown",
   "id": "2d921bcc-4714-4106-af4f-89ec3a5e1043",
   "metadata": {},
   "source": [
    "Equations describing the temporal evolution of $R_b$, $Q_b$ and $E^*$ (Eq.1-3 of the main text): \n",
    "\n",
    "$\\dot{R}_b = k_{d\\scriptscriptstyle+}c (R-R_b) - k_{d\\scriptscriptstyle-} R_b+ \\xi_{R} ;$ \n",
    "\n",
    "    \n",
    "$\\dot{Q}_b= k_{e\\scriptscriptstyle+} e (Q-Q_b) - k_{e\\scriptscriptstyle-} Q_b+ \\xi_{Q} ; $ \n",
    "\n",
    "\n",
    "$ \\dot{E}^* = V_s \\frac{R_b^2}{R_b^2 + K_s^2}(E_T- E^*) - \\left ( V_{rg}\\frac{Q_b}{Q_b + K_{rg}} + k \\right ) E^* + \\xi_{E}$ \n"
   ]
  },
  {
   "cell_type": "markdown",
   "id": "6fedaaa6-ae9f-45ad-8d51-550b8f409920",
   "metadata": {},
   "source": [
    "Standard values of parameters"
   ]
  },
  {
   "cell_type": "code",
   "execution_count": null,
   "id": "5fa49140-7b22-48d2-9c81-d1a921e07b19",
   "metadata": {},
   "outputs": [],
   "source": [
    "# Normalized concentration of molecules c_v = [FGF]/[FGF]_0, e_v = [eph]/[eph]_0\n",
    "c_v =  5  \n",
    "e_v =  5 \n",
    "\n",
    "# Total number of molecules in each cell\n",
    "Rt_v =  2000 # Total number of FGF receptors\n",
    "Qt_v =  2000 # Total number of ephrin receptors\n",
    "Erkt_v= 4000 # Total number of ERK molecules\n",
    "\n",
    "# Values of the reaction rates  \n",
    "Kd =  60 # Normalised binding constant of FGF\n",
    "kd_plus_v = 0.1  \n",
    "kd_minus_v = Kd*kd_plus_v\n",
    " \n",
    "Ke =  40 # Normalised binding constant of ephrin\n",
    "ke_plus_v = 0.1 \n",
    "ke_minus_v = Ke*ke_plus_v\n",
    "\n",
    "k_v =  0.2 # ERK* de-activation constant\n",
    "Vs_v=  1*k_v # Maximal rate of ERK activation (by Rb)\n",
    "Vrg_v = 0.4*k_v # Maximal rate of ERK* deactivation (by Qb)\n",
    "\n",
    "Ks_v =  200  # Half saturation constant for Rb\n",
    "Krg_v =  200 # Half saturation constant for Qb\n",
    "\n",
    "# Cell surface\n",
    "Scell_v = 6000 # Total cell surface (um^2)\n",
    "S1max = Scell_v/2 # Maximum surface exposed to FGF\n",
    "S1_v = 0.5*Scell_v # Surface exposed to FGF (um^2)\n",
    "\n",
    "# The surface exposed to FGF (S1) is related to the surface exposed to ephrin (S2) through Eq.5:\n",
    "# S2 = A*S1+B*Scell  \n",
    "A = -1.1265\n",
    "B = 0.9092"
   ]
  },
  {
   "cell_type": "markdown",
   "id": "9e742ce2-e53b-4615-a4ec-db2e00484ea1",
   "metadata": {},
   "source": [
    "Function to compute the number of active ERK molecules ($E^*$) (Eq. 1-3)"
   ]
  },
  {
   "cell_type": "code",
   "execution_count": null,
   "id": "8bc7512f-3b10-4637-addd-bf4a6f64b5bf",
   "metadata": {},
   "outputs": [],
   "source": [
    "def ERK(c, args):  \n",
    "    \n",
    "    kd_plus, kd_minus, ke_plus, ke_minus, S1, e, k, Ks, Krg, Vs, Vrg, Qt, Rt, Erkt, Scell = args\n",
    "\n",
    "    S2= A*S1 +B*Scell\n",
    "    \n",
    "    # Cempute Rb_ss, Qb_ss and ERK_ss \n",
    "    Rb_ss = Rt*S1/Scell*c/(c+kd_minus/kd_plus)\n",
    "    Qb_ss = Qt*S2/Scell*e/(e+ke_minus/ke_plus)\n",
    "    Erk_ss = Erkt* (Vs*Rb_ss**s/(Rb_ss**s+Ks**s)) /(Vs*Rb_ss**s/(Rb_ss**s+Ks**s) + Vrg*Qb_ss/(Qb_ss+Krg)+ k)\n",
    "    \n",
    "    del Rb_ss, Qb_ss\n",
    "    return np.float32(Erk_ss) "
   ]
  },
  {
   "cell_type": "markdown",
   "id": "717c85ae-fc09-42cc-8cd0-c2db6a5df801",
   "metadata": {},
   "source": [
    "Function to compute the noise in the number of active ERK molecules ($\\sigma_e$) (Eq. 22 - 28)"
   ]
  },
  {
   "cell_type": "code",
   "execution_count": null,
   "id": "bb493366-b32d-4898-8a3b-119cb77292f3",
   "metadata": {},
   "outputs": [],
   "source": [
    "# Function to compute the noise as a function of the input \n",
    "def sigma(c, args):\n",
    "    \n",
    "    kd_plus, kd_minus, ke_plus, ke_minus, S1, e, k, Ks, Krg, Vs, Vrg, Qt, Rt, Erkt, Scell = args\n",
    "\n",
    "    S2= A*S1 +B*Scell\n",
    "    Rb_ss = Rt*S1/Scell*c/(c+kd_minus/kd_plus)\n",
    "    Qb_ss = Qt*S2/Scell*e/(e+ke_minus/ke_plus)\n",
    "    Erk_ss = Erkt* (Vs*Rb_ss**2/(Rb_ss**2+Ks**2)) /(Vs*Rb_ss**2/(Rb_ss**2+Ks**2) + Vrg*Qb_ss/(Qb_ss+Krg)+ k)\n",
    "\n",
    "    Tau_c = (kd_plus*c+kd_minus)**(-1)\n",
    "    Tau_e = (ke_plus*e+ke_minus)**(-1)\n",
    "    Tau_E = (k + Vs*Rb_ss**2/(Rb_ss**2+Ks**2) + Vrg*Qb_ss/(Qb_ss+Krg) )**(-1)\n",
    "\n",
    "    Gamma_R = 2*Vs*Rb_ss*Ks**2/(Rb_ss**2+Ks**2)**2*(Erkt-Erk_ss)\n",
    "    Gamma_Q = Vrg*Krg/(Qb_ss+Krg)**2*Erk_ss\n",
    "\n",
    "    n_ss = c*kd_plus/(kd_minus + c*kd_plus)\n",
    "    m_ss = e*ke_plus/(ke_minus + e*ke_plus)\n",
    "\n",
    "    A_R = 2/Tau_c*Rt*S1/Scell*n_ss*(1-n_ss)\n",
    "    A_Q = 2/Tau_e*Qt*S2/Scell*m_ss*(1-m_ss)\n",
    "    A_E = 2*Vs*Rb_ss**2/(Rb_ss**2+Ks**2)*(Erkt-Erk_ss)\n",
    "\n",
    "    sigma_R = Gamma_R**2*A_R/2*(Tau_c-Tau_E)/(Tau_E**(-2)-Tau_c**(-2))\n",
    "    sigma_Q = Gamma_Q**2*A_Q/2*(Tau_e-Tau_E)/(Tau_E**(-2)-Tau_e**(-2))\n",
    "    sigma_E = A_E/2*Tau_E\n",
    "\n",
    "    sigma2 = sigma_R + sigma_Q + sigma_E\n",
    "        \n",
    "    return np.float32(np.sqrt(sigma2))"
   ]
  },
  {
   "cell_type": "markdown",
   "id": "6f2e2dac-8393-4431-b491-eed9bc7289e7",
   "metadata": {},
   "source": [
    "# Information transmission"
   ]
  },
  {
   "cell_type": "markdown",
   "id": "79e03f88-8805-4a41-b5a3-4d058f3392c4",
   "metadata": {},
   "source": [
    "Input probability distribution $P(c)$: lognormal distribution centered around $\\mu_c$, with variance $\\sigma_F^2$.\n",
    "\n",
    "$P(c) = \\frac{1}{c \\sqrt{2\\pi \\sigma_F^2}} \\exp{\\left (-\\frac{(\\ln{(c)}-\\mu_c)^2}{\\sigma_F^2} \\right )}$   (Eq. 7 of the main text)"
   ]
  },
  {
   "cell_type": "code",
   "execution_count": null,
   "id": "ba79f8bd-cf17-410b-8923-3f31a03056af",
   "metadata": {},
   "outputs": [],
   "source": [
    "# Lognormal distribution\n",
    "def Pf_Lognorm(var, mu_c, sigma_F): \n",
    "    mu = np.log(mu_c**2/np.sqrt(mu_c**2+sigma_F**2))\n",
    "    sig = np.sqrt(np.log(1+sigma_F**2/mu_c**2))\n",
    "    distr = 1/(2*np.pi*sig**2*var**2)**(1/2)*np.exp(-1/2*((np.log(var)-mu)/sig)**2) \n",
    "    return np.float32(distr)"
   ]
  },
  {
   "cell_type": "markdown",
   "id": "84c08290-72c2-4060-a7a7-9497965fa24b",
   "metadata": {},
   "source": [
    "Function to compute the conditional probability distribution $P(E^*|c) = \\mathcal{G}(E^*, \\bar{E}^*, \\sigma_e^2)$ (Eq. 9)"
   ]
  },
  {
   "cell_type": "code",
   "execution_count": null,
   "id": "e6e05185-0630-488c-ad2e-c9009be3cfd4",
   "metadata": {},
   "outputs": [],
   "source": [
    "def P_ERKF(var, ERK_temp, args):\n",
    "    \n",
    "    # Gaussian centered around ERK_v, with std = sigma_v \n",
    "    ERK_v = ERK(var, args= args)\n",
    "    sigma_v = sigma(var, args=args)\n",
    "\n",
    "    distr = 1/(2*np.pi*sigma_v**2)**(1/2)*np.exp(-1/2*((ERK_temp - ERK_v)/sigma_v)**2)   \n",
    "    \n",
    "    # Return the normalized distribution    \n",
    "    return distr/np.trapz(distr,ERK_temp)"
   ]
  },
  {
   "cell_type": "markdown",
   "id": "17f6a383-ac91-45cb-aca9-6587d1ea130c",
   "metadata": {},
   "source": [
    "Function to compute the entropy of $P(\\{E_A^*, E_B^*, E_C^*, E_D^*\\})$:\n",
    "\n",
    "$ S[P(\\{E_A^*, E_B^*, E_C^*, E_D^*\\})] = - \\int P(\\{E_A^*, E_B^*, E_C^*, E_D^*\\}) \\log_2(P(\\{E_A^*, E_B^*, E_C^*, E_D^*\\})) dE_A^* dE_B^* dE_C^* dE_D^*$ "
   ]
  },
  {
   "cell_type": "code",
   "execution_count": null,
   "id": "411522d1-5631-491f-a5d0-8f336f2438fe",
   "metadata": {},
   "outputs": [],
   "source": [
    "def SPERK_4c(ERK_A, ERK_B, ERK_C, ERK_D, c_temp, Pc, argsA, argsB, argsC, argsD):\n",
    "    \n",
    "    distr = np.zeros((len(ERK_A), len(ERK_B), len(ERK_C), len(ERK_D)))\n",
    "    \n",
    "    for i in range(1, len(c_temp)): \n",
    "        PerkfA_1 = np.float32(P_ERKF(c_temp[i], ERK_A, args=argsA))\n",
    "        PerkfB_1 = np.float32(P_ERKF(c_temp[i], ERK_B, args=argsB))\n",
    "        PerkfC_1 = np.float32(P_ERKF(c_temp[i], ERK_C, args=argsC))\n",
    "        PerkfD_1 = np.float32(P_ERKF(c_temp[i], ERK_D, args=argsD))\n",
    "        \n",
    "        PerkfA_0 = np.float32(P_ERKF(c_temp[i-1], ERK_A, args=argsA))\n",
    "        PerkfB_0 = np.float32(P_ERKF(c_temp[i-1], ERK_B, args=argsB))\n",
    "        PerkfC_0 = np.float32(P_ERKF(c_temp[i-1], ERK_C, args=argsC))\n",
    "        PerkfD_0 = np.float32(P_ERKF(c_temp[i-1], ERK_D, args=argsD))\n",
    "            \n",
    "        # Reshape the arrays to create a 3D matrix with entries P(EA\\c)*P(EB\\c)*P(EC\\c)*P(c)\n",
    "        PerkfA_1, PerkfB_1, PerkfC_1, PerkfD_1 = np.meshgrid(PerkfA_1, PerkfB_1, PerkfC_1, PerkfD_1, indexing='ij')\n",
    "        PerkfA_0, PerkfB_0, PerkfC_0, PerkfD_0 = np.meshgrid(PerkfA_0, PerkfB_0, PerkfC_0, PerkfD_0, indexing='ij')\n",
    "        \n",
    "        integrand_1 = PerkfA_1*PerkfB_1*PerkfC_1*PerkfD_1*np.float32(Pc[i])\n",
    "        integrand_0 = PerkfA_0*PerkfB_0*PerkfC_0*PerkfD_0*np.float32(Pc[i-1])\n",
    "        \n",
    "        del PerkfA_0, PerkfB_0, PerkfC_0, PerkfD_0, PerkfA_1, PerkfB_1, PerkfC_1, PerkfD_1\n",
    "        \n",
    "        delta_c = np.float32(c_temp[i]-c_temp[i-1])\n",
    "        integral_step = (integrand_1+integrand_0)*delta_c/2\n",
    "        \n",
    "        del  integrand_1, integrand_0\n",
    "        \n",
    "        distr= distr + integral_step\n",
    "\t\n",
    "    del integral_step\n",
    "    \n",
    "    SPout =  - np.trapz(np.trapz(np.trapz(np.trapz(xlogy(distr, distr)/np.log(2), ERK_A, axis=0), ERK_B, axis=0), ERK_C, axis=0), ERK_D)\n",
    "    \n",
    "    del distr\n",
    "    \n",
    "    # Return the output matrix\n",
    "    return SPout"
   ]
  },
  {
   "cell_type": "markdown",
   "id": "0fd7e620-8b67-47e8-ae69-35e6bcef8f16",
   "metadata": {},
   "source": [
    "Function to compute information:\n",
    "\n",
    "$I(c;\\{E_A^*, E_B^*, E_C^*, E_D^*\\}) =- \\int P(\\{E_A^*, E_B^*, E_C^*, E_D^*\\})\\log_2(P(\\{E_A^*, E_B^*, E_C^*, E_D^*\\})) dE_A^* dE_B^* dE_C^* dE_D^* + $\n",
    "\n",
    "$ \\hspace{5.9 cm} + \\int dc P(c) \\int P(\\{E_A^*, E_B^*, E_C^*, E_D^*\\}|c)\\log_2(P(\\{E_A^*, E_B^*, E_C^*, E_D^*\\}|c)) dE_A^* dE_B^* dE_C^* dE_D^* \\quad $ (Eq. 30 with N=4)\n",
    "\n",
    "\n",
    "$ \\hspace{4.5 cm} = S[P(\\{E_A^*, E_B^*, E_C^*, E_D^*\\})] + \\int dc P(c) \\Big [ \\int P(E_A^*|c)\\log_2(P(E_A^*|c)) dE_A^*  + \\int P(E_B^*|c)\\log_2(P(E_B^*|c)) dE_B^* + $\n",
    "\n",
    "$ \\hspace{5.9 cm} + \\int P(E_C^*|c)\\log_2(P(E_C^*|c)) dE_C^*  +  \\int P(E_D^*|c)\\log_2(P(E_D^*|c)) dE_D^* \\Big ]$ \n",
    "\n",
    "$ \\hspace{4.5 cm} = S[P(\\{E_A^*, E_B^*, E_C^*, E_D^*\\})] - \\int dc P(c) \\Big [ \\log_2\\left (\\sqrt{2\\pi e}\\sigma_A(c) \\right) +  \\log_2 \\left (\\sqrt{2\\pi e}\\sigma_B(c) \\right) + \\log_2 \\left (\\sqrt{2\\pi e}\\sigma_C(c) \\right)  + \\log_2 \\left (\\sqrt{2\\pi e}\\sigma_D(c) \\right) \\Big ]$ "
   ]
  },
  {
   "cell_type": "code",
   "execution_count": null,
   "id": "63de2c5d-d55c-4b6a-91e7-d5b08c5e47ee",
   "metadata": {},
   "outputs": [],
   "source": [
    "def I_4cells(c_temp, Pin, SPout, argsA, argsB, argsC, argsD):\n",
    "     \n",
    "    sigma_A = np.float32(sigma(c_temp, args = argsA))\n",
    "    sigma_B = np.float32(sigma(c_temp, args = argsB))\n",
    "    sigma_C = np.float32(sigma(c_temp, args = argsC))\n",
    "    sigma_D = np.float32(sigma(c_temp, args = argsD))\n",
    "\n",
    "    I2= - np.log2((2*np.pi*np.exp(1))**(4/2)*sigma_A*sigma_B*sigma_C*sigma_D)\n",
    "\n",
    "    # Compute int3 = int P(c)*I2 dc\n",
    "    I3 = np.trapz(I2*Pin, c_temp)\n",
    "    \n",
    "    del sigma_A, sigma_B, sigma_C, sigma_D \n",
    "    \n",
    "    # Return information\n",
    "    return SPout + I3"
   ]
  },
  {
   "cell_type": "markdown",
   "id": "9d90792c-0f81-4cb2-873e-a5705f996e5e",
   "metadata": {},
   "source": [
    "Re-write the functions for multiprocessing:"
   ]
  },
  {
   "cell_type": "code",
   "execution_count": null,
   "id": "64de0d71-58dc-485d-94ae-6a39864e5453",
   "metadata": {},
   "outputs": [],
   "source": [
    "def SPERK_4c_mp(arg_pout):\n",
    "    \n",
    "    ERK_A, ERK_B, ERK_C, ERK_D, c_temp, Pc, argsA, argsB, argsC, argsD = arg_pout\n",
    "    SPout = SPERK_4c(ERK_A, ERK_B, ERK_C, ERK_D, c_temp, Pc, argsA, argsB, argsC, argsD)\n",
    "    \n",
    "    return SPout\n",
    "    \n",
    "    \n",
    "def I_4c_mp(arg_I):\n",
    "    \n",
    "    c_temp, Pin, covPout, argsA, argsB, argsC, argsD = arg_I\n",
    "    Info = I_4cells(c_temp, Pin, SPout, argsA, argsB, argsC, argsD)\n",
    "    \n",
    "    return Info"
   ]
  },
  {
   "cell_type": "markdown",
   "id": "b25f5ab5-a8c2-4799-8f25-18ee9e5f1544",
   "metadata": {},
   "source": [
    "# Computation "
   ]
  },
  {
   "cell_type": "markdown",
   "id": "37a27da6-c533-4d9a-b818-d9b95220c943",
   "metadata": {},
   "source": [
    "The presence of the constraint imposes:  $S_1^A + S_1^B+ S_1^C + S_1^D = S_1^{tot}$. \n",
    "\n",
    "Compute the transmitted information $I(c; \\{ E_A^*, E_B^*, E_C^*, E_D^* \\})$ for all the possible combinations of $S_1^A, S_1^B, S_1^C, S_1^D$. \n"
   ]
  },
  {
   "cell_type": "code",
   "execution_count": null,
   "id": "c1e8eac1-05cf-4583-8d3a-1cf8cef0f184",
   "metadata": {},
   "outputs": [],
   "source": [
    "# The input distribution\n",
    "mu_c =5\n",
    "sigma_F= 1\n",
    "\n",
    "cmin = np.max((mu_c-5*sigma_F, 1e-2))\n",
    "cmax = mu_c+5*sigma_F\n",
    "c_temp = np.linspace(cmin, cmax, 50)\n",
    "P_in =  Pf_Lognorm(c_temp, sigma_F=sigma_F, mu_c=mu_c)"
   ]
  },
  {
   "cell_type": "code",
   "execution_count": null,
   "id": "20fc03c0-5c75-4f3f-b1be-38e6ba68df18",
   "metadata": {},
   "outputs": [],
   "source": [
    "# Total cell surfaces\n",
    "ScellA_v = 6000 \n",
    "ScellB_v = 6000 \n",
    "ScellC_v = 6000 \n",
    "ScellD_v = 6000\n",
    "\n",
    "# Max and min S1 surfaces \n",
    "SmaxA = ScellA_v/2\n",
    "SmaxB = ScellB_v/2\n",
    "SmaxC = ScellC_v/2\n",
    "SmaxD = ScellD_v/2\n",
    "\n",
    "SminA = SmaxA/10\n",
    "SminB = SmaxB/10\n",
    "SminC = SmaxC/10\n",
    "SminD = SmaxD/10\n",
    "\n",
    "# Max and min S1tot \n",
    "S1totmax = SmaxA + SmaxB + SmaxC + SmaxD\n",
    "S1totmin = SminA + SminB + SminC + SminD\n",
    "S1tot_temp = np.round(np.linspace(S1totmin, S1totmax, 30), 2)\n",
    "\n",
    "# Parameters for ERK and sigma functions \n",
    "argA = [kd_plus_v, kd_minus_v, ke_plus_v, ke_minus_v, S1_v, e_v, k_v, Ks_v, Krg_v, Vs_v, Vrg_v, Qt_v,\\\n",
    "        Rt_v, Erkt_v, ScellA_v]\n",
    "argB = [kd_plus_v, kd_minus_v, ke_plus_v, ke_minus_v, S1_v, e_v, k_v, Ks_v, Krg_v, Vs_v, Vrg_v, Qt_v,\\\n",
    "        Rt_v, Erkt_v, ScellB_v]   \n",
    "argC = [kd_plus_v, kd_minus_v, ke_plus_v, ke_minus_v, S1_v, e_v, k_v, Ks_v, Krg_v, Vs_v, Vrg_v, Qt_v,\\\n",
    "        Rt_v, Erkt_v, ScellC_v]\n",
    "argD = [kd_plus_v, kd_minus_v, ke_plus_v, ke_minus_v, S1_v, e_v, k_v, Ks_v, Krg_v, Vs_v, Vrg_v, Qt_v,\\\n",
    "        Rt_v, Erkt_v, ScellD_v]"
   ]
  },
  {
   "cell_type": "code",
   "execution_count": null,
   "id": "c86ae8a1-c0e4-441f-97eb-c817641a65fa",
   "metadata": {},
   "outputs": [],
   "source": [
    "# Vectors to store the results\n",
    "Info_S1AS1BS1CS1D_mat = []\n",
    "\n",
    "# Vectors to store the values of S1A, S1B S1C and S1D for the different values of S1tot\n",
    "S1A_temp_S1t = []\n",
    "S1B_temp_S1t = []\n",
    "S1C_temp_S1t = []\n",
    "S1D_temp_S1t = []\n",
    "\n",
    "\n",
    "for k in range(len(S1tot_temp)):\n",
    "    print('S1tot=', S1tot_temp[k])\n",
    "\n",
    "    S1A_temp = np.round(np.linspace(SminA, SmaxA, 50),2)\n",
    "    S1B_temp = np.round(np.linspace(SminB, SmaxB, 50),2)\n",
    "    S1C_temp = np.round(np.linspace(SminC, SmaxC, 50),2)\n",
    "\n",
    "    # Create the vectors S1A, S1B, S1C and S1D such that S1A + S1B + S1C + S1D = S1tot\n",
    "    S1A_3d, S1B_3d, S1C_3d = np.meshgrid(S1A_temp, S1B_temp, S1C_temp, indexing='ij')\n",
    "    S1D_3d = np.round(S1tot_temp[k]- S1B_3d - S1A_3d- S1C_3d, 2)\n",
    "    \n",
    "    S1A_3d[np.where(S1D_3d< SminD)]= 'NaN'\n",
    "    S1A_3d[np.where(S1D_3d> SmaxD)]= 'NaN'\n",
    "    S1B_3d[np.where(S1D_3d< SminD)]= 'NaN'\n",
    "    S1B_3d[np.where(S1D_3d> SmaxD)]= 'NaN'\n",
    "    S1C_3d[np.where(S1D_3d< SminD)]= 'NaN'\n",
    "    S1C_3d[np.where(S1D_3d> SmaxD)]= 'NaN'\n",
    "    S1D_3d[np.where(S1D_3d< SminD)]= 'NaN'\n",
    "    S1D_3d[np.where(S1D_3d> SmaxD)]= 'NaN'\n",
    "    \n",
    "    S1A_temp_S1t.append(S1A_3d)\n",
    "    S1B_temp_S1t.append(S1B_3d)\n",
    "    S1C_temp_S1t.append(S1C_3d)\n",
    "    S1D_temp_S1t.append(S1D_3d)\n",
    "\n",
    "    S1A_temp = np.ravel(S1A_3d[~np.isnan(S1A_3d)])\n",
    "    S1B_temp = np.ravel(S1B_3d[~np.isnan(S1B_3d)])\n",
    "    S1C_temp = np.ravel(S1C_3d[~np.isnan(S1C_3d)])\n",
    "    S1D_temp = np.ravel(S1D_3d[~np.isnan(S1D_3d)])\n",
    "    \n",
    "    del S1B_3d, S1C_3d, S1D_3d\n",
    "       \n",
    "    # Update the parameters with the values of S1A_temp, S1B_temp, S1C_temp\n",
    "    args_tempA = [argA[0:4]+[S1A_temp[i]]+argA[5:] for i in range(len(S1A_temp))]\n",
    "    args_tempB = [argB[0:4]+[S1B_temp[i]]+argB[5:] for i in range(len(S1B_temp))]\n",
    "    args_tempC = [argC[0:4]+[S1C_temp[i]]+argC[5:] for i in range(len(S1C_temp))]\n",
    "    args_tempD = [argD[0:4]+[S1D_temp[i]]+argD[5:] for i in range(len(S1D_temp))]\n",
    "\n",
    "    # Compute ERK(S1) \n",
    "    ERK_S1A = []\n",
    "    ERK_S1B = []\n",
    "    ERK_S1C = []\n",
    "    ERK_S1D = []\n",
    "    \n",
    "    for i in range(len(S1A_temp)): \n",
    "        \n",
    "        ERKvminA = ERK(cmin, args_tempA[i])\n",
    "        ERKvminB = ERK(cmin, args_tempB[i])\n",
    "        ERKvminC = ERK(cmin, args_tempC[i])\n",
    "        ERKvminD = ERK(cmin, args_tempD[i])\n",
    "        \n",
    "        ERKmax_cellA = ERK(cmax, args_tempA[i])\n",
    "        ERKmax_cellB = ERK(cmax, args_tempB[i])\n",
    "        ERKmax_cellC = ERK(cmax, args_tempC[i])\n",
    "        ERKmax_cellD = ERK(cmax, args_tempD[i])\n",
    "                            \n",
    "        ERKmin_cellA = np.max((ERKvminA - ERKvminA/4, 1e-4))\n",
    "        ERKmin_cellB = np.max((ERKvminB - ERKvminB/4, 1e-4))\n",
    "        ERKmin_cellC = np.max((ERKvminC - ERKvminC/4, 1e-4))\n",
    "        ERKmin_cellD = np.max((ERKvminD - ERKvminD/4, 1e-4))\n",
    "        \n",
    "        ERK_S1A.append(np.linspace(ERKmin_cellA, ERKmax_cellA+ ERKmax_cellA/4, 50, dtype= np.float32))\n",
    "        ERK_S1B.append(np.linspace(ERKmin_cellB, ERKmax_cellB+ ERKmax_cellB/4, 50, dtype= np.float32))\n",
    "        ERK_S1C.append(np.linspace(ERKmin_cellC, ERKmax_cellC+ ERKmax_cellC/4, 50, dtype= np.float32))\n",
    "        ERK_S1D.append(np.linspace(ERKmin_cellD, ERKmax_cellD+ ERKmax_cellD/4, 50, dtype= np.float32))\n",
    "        \n",
    "\n",
    "    # Compute the entropy of the output distribution \n",
    "    arg_SPout = []\n",
    "    \n",
    "    for l in range(len(S1A_temp)):\n",
    "        arg_Pout.append((ERK_S1A[l], ERK_S1B[l], ERK_S1C[l], ERK_S1D[l], c_temp, P_in, args_tempA[l],\\\n",
    "                args_tempB[l], args_tempC[l], args_tempD[l]))\n",
    "\n",
    "    if __name__ == '__main__': \n",
    "        p = mp.Pool(ncore)\n",
    "        SPout_4c = p.map(SPERK_4c_mp, arg_Pout)\n",
    "    \n",
    "    del arg_SPout, ERK_S1A, ERK_S1B, ERK_S1C, ERK_S1D\n",
    "        \n",
    "    # Compute information as a function of S1A, S1B, S1C, S1D\n",
    "    print('Computing I')\n",
    "    arg_I = []\n",
    "    \n",
    "    for i in range(len(S1A_temp)):\n",
    "        arg_I.append((c_temp, P_in, SPout_4c[i], args_tempA[i], args_tempB[i], args_tempC[i], args_tempD[i]))\n",
    "\n",
    "    if __name__ == '__main__': \n",
    "        p = mp.Pool(ncore)\n",
    "        \n",
    "        Info_S1AS1BS1CS1D_S1t = p.map(I_4c_mp, arg_I)\n",
    " \n",
    "    Info_S1AS1BS1CS1D_mat_temp = np.zeros((50,50,50))\n",
    "    Info_S1AS1BS1CS1D_mat_temp[~np.isnan(S1A_3d)] = Info_S1AS1BS1CS1D_S1t\n",
    "    Info_S1AS1BS1CS1D_mat_temp[Info_S1AS1BS1CS1D_mat_temp == 0.0]= 'NaN'\n",
    "\n",
    "    Info_S1AS1BS1CS1D_mat.append(Info_S1AS1BS1CS1D_mat_temp)\n",
    "    \n",
    "    del Info_S1AS1BS1CS1D_mat_temp, arg_I\n",
    "    "
   ]
  },
  {
   "cell_type": "code",
   "execution_count": null,
   "id": "d925dcad",
   "metadata": {},
   "outputs": [],
   "source": [
    "# Reshape the arrays (if needed) and save them \n",
    "np.savetxt('S1tot_temp.txt', S1tot_temp)\n",
    "\n",
    "Info_S1AS1BS1CS1D_save = [Info_S1AS1BS1CS1D_mat[i].ravel() for i in range(len(Info_S1AS1BS1CS1D_mat))]\n",
    "np.savetxt('Info_4cells.txt', Info_S1AS1BS1CS1D_save)\n",
    "           \n",
    "S1A_temp_S1t_save = [S1A_temp_S1t[i].ravel() for i in range(len(S1A_temp_S1t))]\n",
    "np.savetxt('S1A_4c.txt', S1A_temp_S1t_save)\n",
    "\n",
    "S1B_temp_S1t_save = [S1B_temp_S1t[i].ravel() for i in range(len(S1B_temp_S1t))]\n",
    "np.savetxt('S1B_4c.txt', S1B_temp_S1t_save)\n",
    "\n",
    "S1C_temp_S1t_save = [S1C_temp_S1t[i].ravel() for i in range(len(S1C_temp_S1t))]\n",
    "np.savetxt('S1C_4c.txt', S1C_temp_S1t_save)\n",
    "\n",
    "S1D_temp_S1t_save = [S1D_temp_S1t[i].ravel() for i in range(len(S1D_temp_S1t))]\n",
    "np.savetxt('S1D_4c.txt', S1D_temp_S1t_save)\n"
   ]
  },
  {
   "cell_type": "markdown",
   "id": "a34e0fb4-f148-4895-a442-6f8ac7e9b4d3",
   "metadata": {},
   "source": [
    "These data can be used to reproduce Fig. 4(b) and 4(c) with the code: Fig_4cells.ipynb"
   ]
  }
 ],
 "metadata": {
  "kernelspec": {
   "display_name": "Python 3 (ipykernel)",
   "language": "python",
   "name": "python3"
  },
  "language_info": {
   "codemirror_mode": {
    "name": "ipython",
    "version": 3
   },
   "file_extension": ".py",
   "mimetype": "text/x-python",
   "name": "python",
   "nbconvert_exporter": "python",
   "pygments_lexer": "ipython3",
   "version": "3.12.4"
  }
 },
 "nbformat": 4,
 "nbformat_minor": 5
}
