{
 "cells": [
  {
   "cell_type": "markdown",
   "metadata": {},
   "source": [
    "# Single cell case\n",
    "\n",
    "Code to produce figures 2(c) - (e) of the main text. "
   ]
  },
  {
   "cell_type": "markdown",
   "metadata": {},
   "source": [
    "# Import packages "
   ]
  },
  {
   "cell_type": "code",
   "execution_count": 3,
   "metadata": {},
   "outputs": [],
   "source": [
    "import numpy as np\n",
    "import matplotlib\n",
    "import matplotlib.pyplot as plt \n",
    "from matplotlib.pyplot import cm\n",
    "from scipy.special import xlogy"
   ]
  },
  {
   "cell_type": "markdown",
   "metadata": {},
   "source": [
    "# Model "
   ]
  },
  {
   "cell_type": "markdown",
   "metadata": {},
   "source": [
    "Define the standard values of the parameters"
   ]
  },
  {
   "cell_type": "code",
   "execution_count": 6,
   "metadata": {},
   "outputs": [],
   "source": [
    "# Normalized concentration of molecules c_v = [FGF]/[FGF]_0, e_v = [eph]/[eph]_0\n",
    "c_v =  5  \n",
    "e_v =  5 \n",
    "\n",
    "# Total number of molecules in each cell\n",
    "Rt_v =  2000 # Total number of FGF receptors\n",
    "Qt_v =  2000 # Total number of ephrin receptors\n",
    "Erkt_v= 4000 # Total number of ERK molecules\n",
    "\n",
    "# Values of the reaction rates  \n",
    "Kd =  60 \n",
    "kd_plus_v = 0.1  \n",
    "kd_minus_v = Kd*kd_plus_v\n",
    " \n",
    "Ke =  40 \n",
    "ke_plus_v = 0.1 \n",
    "ke_minus_v = Ke*ke_plus_v\n",
    "\n",
    "k_v =  0.2\n",
    "Vs_v=  1*k_v \n",
    "Vrg_v = 0.4*k_v\n",
    "\n",
    "# Values of half saturation constants\n",
    "Ks_v =  200  \n",
    "Krg_v =  200 \n",
    "\n",
    "# Parameters input distribution (Lognormal distr centered around mu_c, with variance sigma_F^2)\n",
    "mu_c = 5 \n",
    "sigma_F =1\n",
    "\n",
    "# Cell surface\n",
    "Scell_v = 6000 # Total cell surface (um^2)\n",
    "S1max = Scell_v/2 # Maximum surface exposed to FGF\n",
    "S1_v = 0.5*Scell_v # Surface exposed to FGF (um^2)\n",
    "\n",
    "# The surface exposed to FGF (S1) is related to the surface exposed to ephrin (S2) through:\n",
    "# S2 = A*S1+B*Scell  (Eq.5) \n",
    "A = -1.1265\n",
    "B = 0.9092"
   ]
  },
  {
   "cell_type": "markdown",
   "metadata": {},
   "source": [
    "Function to compute the number of active ERK molecules ($E^*$) (Eq. 1-3)"
   ]
  },
  {
   "cell_type": "code",
   "execution_count": 8,
   "metadata": {},
   "outputs": [],
   "source": [
    "# Function to compute ERK as a function of the input \n",
    "def ERK(var, args, varS1=True): \n",
    "\n",
    "    if varS1==True: \n",
    "        S1= var \n",
    "        kd_plus, kd_minus, ke_plus, ke_minus, c, e, k, Ks, Krg, Vs, Vrg, Qt, Rt, Erkt, Scell = args\n",
    "    else: \n",
    "        c= var \n",
    "        kd_plus, kd_minus, ke_plus, ke_minus, S1, e, k, Ks, Krg, Vs, Vrg, Qt, Rt, Erkt, Scell = args\n",
    "\n",
    "    S2= A*S1 +B*Scell\n",
    "    Rb_ss = Rt*S1/Scell*c/(c+kd_minus/kd_plus)\n",
    "    Qb_ss = Qt*S2/Scell*e/(e+ke_minus/ke_plus)\n",
    "    Erk_ss = Erkt* (Vs*Rb_ss**2/(Rb_ss**2+Ks**2)) /(Vs*Rb_ss**2/(Rb_ss**2+Ks**2) + Vrg*Qb_ss/(Qb_ss+Krg)+ k)\n",
    "        \n",
    "    return np.float32(Erk_ss) "
   ]
  },
  {
   "cell_type": "markdown",
   "metadata": {},
   "source": [
    "Function to compute the noise in the number of active ERK molecules ($\\sigma_e$) (Eq. 22 - 28)"
   ]
  },
  {
   "cell_type": "code",
   "execution_count": 10,
   "metadata": {},
   "outputs": [],
   "source": [
    "# Function to compute the noise as a function of the input \n",
    "def sigma(var, args, varS1=True):\n",
    "    \n",
    "    if varS1==True: \n",
    "        S1= var \n",
    "        kd_plus, kd_minus, ke_plus, ke_minus, c, e, k, Ks, Krg, Vs, Vrg, Qt, Rt, Erkt, Scell = args\n",
    "    else: \n",
    "        c= var \n",
    "        kd_plus, kd_minus, ke_plus, ke_minus, S1, e, k, Ks, Krg, Vs, Vrg, Qt, Rt, Erkt, Scell = args\n",
    "\n",
    "    S2= A*S1 +B*Scell\n",
    "    Rb_ss = Rt*S1/Scell*c/(c+kd_minus/kd_plus)\n",
    "    Qb_ss = Qt*S2/Scell*e/(e+ke_minus/ke_plus)\n",
    "    Erk_ss = Erkt* (Vs*Rb_ss**2/(Rb_ss**2+Ks**2)) /(Vs*Rb_ss**2/(Rb_ss**2+Ks**2) + Vrg*Qb_ss/(Qb_ss+Krg)+ k)\n",
    "\n",
    "    Tau_c = (kd_plus*c+kd_minus)**(-1)\n",
    "    Tau_e = (ke_plus*e+ke_minus)**(-1)\n",
    "    Tau_E = (k + Vs*Rb_ss**2/(Rb_ss**2+Ks**2) + Vrg*Qb_ss/(Qb_ss+Krg) )**(-1)\n",
    "\n",
    "    Gamma_R = 2*Vs*Rb_ss*Ks**2/(Rb_ss**2+Ks**2)**2*(Erkt-Erk_ss)\n",
    "    Gamma_Q = Vrg*Krg/(Qb_ss+Krg)**2*Erk_ss\n",
    "\n",
    "    n_ss = c*kd_plus/(kd_minus + c*kd_plus)\n",
    "    m_ss = e*ke_plus/(ke_minus + e*ke_plus)\n",
    "\n",
    "    A_R = 2/Tau_c*Rt*S1/Scell*n_ss*(1-n_ss)\n",
    "    A_Q = 2/Tau_e*Qt*S2/Scell*m_ss*(1-m_ss)\n",
    "    A_E = 2*Vs*Rb_ss**2/(Rb_ss**2+Ks**2)*(Erkt-Erk_ss)\n",
    "\n",
    "    sigma_R = Gamma_R**2*A_R/2*(Tau_c-Tau_E)/(Tau_E**(-2)-Tau_c**(-2))\n",
    "    sigma_Q = Gamma_Q**2*A_Q/2*(Tau_e-Tau_E)/(Tau_E**(-2)-Tau_e**(-2))\n",
    "    sigma_E = A_E/2*Tau_E\n",
    "\n",
    "    sigma2 = sigma_R + sigma_Q + sigma_E\n",
    "        \n",
    "    return np.float32(np.sqrt(sigma2))\n"
   ]
  },
  {
   "cell_type": "markdown",
   "metadata": {},
   "source": [
    "# Information transmission"
   ]
  },
  {
   "cell_type": "markdown",
   "metadata": {},
   "source": [
    "Function to compute the input probability distribution $P(c)$ (Eq. 7)"
   ]
  },
  {
   "cell_type": "code",
   "execution_count": 13,
   "metadata": {},
   "outputs": [],
   "source": [
    "def Pf_Lognorm(var, mu_c, sigma_F): \n",
    "    mu1 = np.log(mu_c**2/np.sqrt(mu_c**2+sigma_F**2))\n",
    "    sig = np.sqrt(np.log(1+sigma_F**2/mu_c**2))\n",
    "    distr = 1/(2*np.pi*sig**2*var**2)**(1/2)*np.exp(-1/2*((np.log(var)-mu1)/sig)**2) \n",
    "    return distr"
   ]
  },
  {
   "cell_type": "markdown",
   "metadata": {},
   "source": [
    "Function to compute the condistional probability distribution $P(E^*|c) = \\mathcal{G}(E^*, \\bar{E}^*, \\sigma_e^2)$ (Eq. 9)"
   ]
  },
  {
   "cell_type": "code",
   "execution_count": 15,
   "metadata": {},
   "outputs": [],
   "source": [
    "def P_ERKF(var, ERK_temp, args):\n",
    "    \n",
    "    # Gaussian centered around ERK_v, with std = sigma_v \n",
    "    ERK_v = ERK(var, args= args, varS1=False)\n",
    "    sigma_v = sigma(var, args=args, varS1=False)\n",
    "\n",
    "    distr = 1/(2*np.pi*sigma_v**2)**(1/2)*np.exp(-1/2*((ERK_temp - ERK_v)/sigma_v)**2)   \n",
    "    \n",
    "    # Return the normalized distribution    \n",
    "    return distr/np.trapz(distr,ERK_temp)"
   ]
  },
  {
   "cell_type": "markdown",
   "metadata": {},
   "source": [
    "Function to compute the output probability distribution $P(E^*) = \\int P(E^*|c) P(c) dc$ (Eq. 10)"
   ]
  },
  {
   "cell_type": "code",
   "execution_count": 17,
   "metadata": {},
   "outputs": [],
   "source": [
    "# Define the distribution of the outputs P(ERK) = int P(ERK/FGF)P(FGF) dFGF\n",
    "def PERK(ERK_temp, c_temp, Pc, args):\n",
    "    integrand = []\n",
    "    \n",
    "    for i in range(len(c_temp)): \n",
    "        Perkf_temp = P_ERKF(c_temp[i], ERK_temp, args=args)\n",
    "        integrand.append(Perkf_temp*Pc[i])\n",
    "    \n",
    "    # Return the output distribution\n",
    "    return np.trapz(integrand, c_temp, axis=0)"
   ]
  },
  {
   "cell_type": "markdown",
   "metadata": {},
   "source": [
    "Function to compute information $I(c;E^*) =- \\int P(E^*)\\log_2(P(E^*)) dE^* + \\int dc P(c) \\int P(E^*|c)\\log_2(P(E^*|c)) dE^* $ (Eq. 6)"
   ]
  },
  {
   "cell_type": "code",
   "execution_count": 19,
   "metadata": {},
   "outputs": [],
   "source": [
    "def I(c_temp, ERK_temp, Pin, Pout, args):\n",
    "\n",
    "    # Compute int P(ERK)log2(P(ERK)) dERK\n",
    "    I1 = np.trapz( xlogy(Pout, Pout)/np.log(2), ERK_temp) \n",
    "    \n",
    "    # Compute int P(ERK|FGF)log2(P(ERK|FGF)) dErk\n",
    "    sigm =  sigma(c_temp, args=args, varS1=False)\n",
    "    I2= - 1/2*np.log2(2*np.pi*np.exp(1)*sigm**2) # - (Entropy of Gaussian distribution)\n",
    "    \n",
    "    # Compute int P(c)*I2\n",
    "    I3 = np.trapz(I2*np.float32(Pin), c_temp)\n",
    "    \n",
    "    # Return the information \n",
    "    return - I1 + I3"
   ]
  },
  {
   "cell_type": "markdown",
   "metadata": {},
   "source": [
    "# Figures"
   ]
  },
  {
   "cell_type": "markdown",
   "metadata": {},
   "source": [
    "## Fig. 2(c)\n",
    "\n",
    "Compute information as a function of $S_1$ (in the presence and in the absence of ephrin)"
   ]
  },
  {
   "cell_type": "code",
   "execution_count": 22,
   "metadata": {},
   "outputs": [],
   "source": [
    "# Input distribution\n",
    "mu = 40\n",
    "sigma_F = 1\n",
    "\n",
    "cmin = np.max((mu-5*sigma_F, 1e-2))\n",
    "cmax = mu + 5*sigma_F\n",
    "\n",
    "c_temp = np.linspace(cmin, cmax, 50)\n",
    "Pin = Pf_Lognorm(c_temp, sigma_F= sigma_F, mu_c=mu)\n",
    "\n",
    "# Parameters\n",
    "S1_temp = np.linspace(S1max/20, S1max)"
   ]
  },
  {
   "cell_type": "code",
   "execution_count": 23,
   "metadata": {},
   "outputs": [],
   "source": [
    "# In the presence of ephrin\n",
    "\n",
    "arg = [kd_plus_v, kd_minus_v, ke_plus_v, ke_minus_v, S1_v, e_v, k_v, Ks_v, Krg_v, Vs_v, Vrg_v, Qt_v,\\\n",
    "       Rt_v, Erkt_v, Scell_v]\n",
    "\n",
    "# Update the parameters with the different values of S1_temp\n",
    "args_temp = [arg[0:4]+[S1_temp[i]]+arg[5:] for i in range(len(S1_temp))]\n",
    "\n",
    "# Compute the output distribution for different values of S1 \n",
    "ERK_S1 = []\n",
    "Pout=[]\n",
    "\n",
    "for i in range(len(S1_temp)): \n",
    "    ERKmaxv = ERK(cmax, args=args_temp[i], varS1=False)\n",
    "    ERKminv = ERK(cmin, args=args_temp[i], varS1=False)\n",
    "    ERKmin = np.max((ERKminv - ERKminv, 1e-4))\n",
    "    \n",
    "    ERK_S1_temp = np.linspace(ERKmin, ERKmaxv+ERKmaxv, 200)\n",
    "    ERK_S1.append(ERK_S1_temp)\n",
    "    \n",
    "    Pout.append(PERK(ERK_S1_temp, c_temp, Pc=Pin, args=args_temp[i]))\n",
    "   \n",
    "# Compute information for different values of S1\n",
    "Info_S1=[]\n",
    "\n",
    "for i in range(len(S1_temp)): \n",
    "    Info_S1.append(I(c_temp, ERK_temp= ERK_S1[i], Pin=Pin, Pout= Pout[i], args=args_temp[i]))"
   ]
  },
  {
   "cell_type": "code",
   "execution_count": 24,
   "metadata": {},
   "outputs": [],
   "source": [
    "# In the absence of ephrin\n",
    "\n",
    "arg_noE = [kd_plus_v, kd_minus_v, ke_plus_v, ke_minus_v, S1_v, 1e-10, k_v, Ks_v, Krg_v, Vs_v, Vrg_v, Qt_v,\\\n",
    "       Rt_v, Erkt_v, Scell_v]\n",
    "\n",
    "args_temp_noE = [arg_noE[0:4]+[S1_temp[i]]+arg_noE[5:] for i in range(len(S1_temp))]\n",
    "\n",
    "# Compute the output distribution for different values of S1 \n",
    "ERK_S1_noE = []\n",
    "Pout_noEph = []\n",
    "\n",
    "for i in range(len(S1_temp)): \n",
    "\n",
    "    ERKmaxv_noE = ERK(cmax, args=args_temp_noE[i], varS1=False)\n",
    "    ERKminv_noE = ERK(cmin, args=args_temp_noE[i], varS1=False)\n",
    "    ERKmin_noE = np.max((ERKminv_noE - ERKminv_noE, 1e-4))\n",
    "    \n",
    "    ERK_S1_temp_noE = np.linspace(ERKmin_noE, ERKmaxv_noE+ERKmaxv_noE, 200)\n",
    "    ERK_S1_noE.append(ERK_S1_temp_noE)\n",
    "    \n",
    "    Pout_noEph.append(PERK(ERK_S1_temp_noE, c_temp, Pc=Pin, args=args_temp_noE[i]))\n",
    "\n",
    "# Compute information for different values of S1\n",
    "Info_S1_noEph=[]\n",
    "\n",
    "for i in range(len(S1_temp)): \n",
    "    Info_S1_noEph.append(I(c_temp, ERK_temp= ERK_S1_noE[i], Pin=Pin, Pout= Pout_noEph[i], args=args_temp_noE[i]))"
   ]
  },
  {
   "cell_type": "code",
   "execution_count": 25,
   "metadata": {},
   "outputs": [],
   "source": [
    "# Compute ERK as a function of S1\n",
    "c_v = 40\n",
    "\n",
    "args_c = [kd_plus_v, kd_minus_v, ke_plus_v, ke_minus_v, c_v, e_v, k_v, Ks_v, Krg_v, Vs_v, Vrg_v, Qt_v,\\\n",
    "       Rt_v, Erkt_v, Scell_v]\n",
    "Erk_S1 = ERK(S1_temp, args=args_c, varS1=True)"
   ]
  },
  {
   "cell_type": "code",
   "execution_count": 26,
   "metadata": {},
   "outputs": [
    {
     "data": {
      "image/png": "[encoded data removed]",
      "text/plain": [
       "<Figure size 370x260 with 2 Axes>"
      ]
     },
     "metadata": {},
     "output_type": "display_data"
    }
   ],
   "source": [
    "# Figure \n",
    "\n",
    "color1 = 'k'\n",
    "color2 = 'purple'\n",
    "\n",
    "fig, ax1 = plt.subplots(figsize=(3.7,2.6)) \n",
    "\n",
    "ax1.plot(S1_temp[Info_S1 ==np.max(Info_S1)], np.max(Info_S1), marker='*', color='tab:orange', \\\n",
    "         linestyle='none' , markersize=8, label='(S$_1$*, I*(c; E*))')\n",
    "ax1.plot(S1_temp, np.array(Info_S1), '-',color='k', linewidth=1.5)\n",
    "ax1.plot(S1_temp, Info_S1_noEph, '--',color='k', linewidth=1.5)\n",
    "\n",
    "ax1.set_xlabel('$S_1$ $(\\\\mu m^2)$', fontsize=10)\n",
    "ax1.set_ylabel('I(c;E*) (bits)', fontsize=10, color=color1) \n",
    "ax1.tick_params(axis='y', labelcolor=color2)\n",
    "ax1.spines['left'].set_color(color1)\n",
    "ax1.tick_params(axis='y', colors=color1) \n",
    "ax1.set_ylim([-0.02, 0.19])\n",
    "\n",
    "ax1.axvline(x=S1_temp[Info_S1 ==np.max(Info_S1)],color='grey', linestyle= '--')\n",
    "ax1.legend(fontsize=9, loc = 'lower right')\n",
    "\n",
    "ax2 = ax1.twinx()  \n",
    "\n",
    "ax2.plot(S1_temp, Erk_S1, '-', color=color2, linewidth=1.5)\n",
    "\n",
    "ax2.set_ylabel('E*', fontsize=10, color=color2)  # we already handled the x-label with ax1\n",
    "ax2.tick_params(axis='y', labelcolor=color2)\n",
    "ax2.set_ylim([-160, 1780])\n",
    "ax2.spines['left'].set_color(color1)\n",
    "ax2.spines['right'].set_color(color2)\n",
    "ax2.tick_params(axis='y', colors=color2)\n",
    "\n",
    "fig.tight_layout()  \n",
    "plt.savefig('Fig_2c.pdf')\n",
    "plt.show()"
   ]
  },
  {
   "cell_type": "markdown",
   "metadata": {},
   "source": [
    "## Fig. 2(d)"
   ]
  },
  {
   "cell_type": "markdown",
   "metadata": {},
   "source": [
    "## Experimental data "
   ]
  },
  {
   "cell_type": "code",
   "execution_count": 29,
   "metadata": {},
   "outputs": [],
   "source": [
    "S1_temp = np.linspace(S1max/20, S1max)\n",
    "\n",
    "# Compute dEdc(c) and sigma(c) @ c=40 for different values of S1\n",
    "c_v = 40\n",
    "c_temp = np.linspace(c_v-0.1, c_v + 0.1, 20)\n",
    "\n",
    "dEdc_cv = []\n",
    "sigma_temp_cv = []\n",
    "\n",
    "for i in range(len(S1_temp)):\n",
    "    arg = [kd_plus_v, kd_minus_v, ke_plus_v, ke_minus_v, S1_temp[i], e_v, k_v, Ks_v, Krg_v, Vs_v, Vrg_v, Qt_v,\\\n",
    "       Rt_v, Erkt_v, Scell_v]\n",
    "\n",
    "    Erk_temp = ERK(c_temp, args=arg, varS1=False)\n",
    "    dEdc_cv.append(np.gradient(Erk_temp, c_temp)[len(c_temp)//2])\n",
    "    sigma_temp_cv.append(sigma(c_v, args=arg, varS1=False))\n"
   ]
  },
  {
   "cell_type": "code",
   "execution_count": 30,
   "metadata": {},
   "outputs": [
    {
     "data": {
      "image/png": "[encoded data removed]",
      "text/plain": [
       "<Figure size 320x250 with 2 Axes>"
      ]
     },
     "metadata": {},
     "output_type": "display_data"
    }
   ],
   "source": [
    "fig, ax1 = plt.subplots(figsize=(3.2,2.5))\n",
    "\n",
    "color1 = 'tab:blue'\n",
    "color2 = 'darkorange'\n",
    "\n",
    "ax1.plot(S1_temp, dEdc_cv, color=color1, linewidth=1.5)\n",
    "\n",
    "ax1.set_xlabel('$S_1$ ($\\\\mu m^2$)', fontsize=10)\n",
    "ax1.set_ylabel('$dE*/dc$', fontsize=10, color=color1) \n",
    "ax1.tick_params(axis='y', labelcolor=color2)\n",
    "ax1.spines['left'].set_color(color1)\n",
    "ax1.tick_params(axis='y', colors=color1) \n",
    "\n",
    "ax2 = ax1.twinx() \n",
    "\n",
    "ax2.plot(S1_temp, sigma_temp_cv, '-', color=color2, linewidth=1.5)\n",
    "\n",
    "ax2.set_ylabel('$\\\\sigma_e$', fontsize=10, color=color2) \n",
    "ax2.spines['left'].set_color(color1)\n",
    "ax2.spines['right'].set_color(color2)\n",
    "ax2.tick_params(axis='y', colors=color2)\n",
    "ax2.axvline(x=910, color='grey', linestyle= '--')\n",
    "\n",
    "fig.tight_layout() \n",
    "plt.savefig('Fig_2d.pdf')\n",
    "plt.show()"
   ]
  },
  {
   "cell_type": "markdown",
   "metadata": {},
   "source": [
    "## Fig. 2(e)"
   ]
  },
  {
   "cell_type": "code",
   "execution_count": 32,
   "metadata": {},
   "outputs": [
    {
     "data": {
      "image/png": "[encoded data removed]",
      "text/plain": [
       "<Figure size 280x300 with 2 Axes>"
      ]
     },
     "metadata": {},
     "output_type": "display_data"
    }
   ],
   "source": [
    "# Figure to explain intuitively the shape of the curve above as a function of S1\n",
    "\n",
    "S1_temp = np.linspace(0.01, 0.5, 6)*Scell_v\n",
    "color = cm.binary(np.linspace(0.2, 1, len(S1_temp)))\n",
    "\n",
    "norm = matplotlib.colors.Normalize(vmin=np.min(S1_temp/Scell_v), vmax=np.max(S1_temp/Scell_v)) \n",
    "sm = matplotlib.cm.ScalarMappable(cmap='binary', norm=norm)    \n",
    "\n",
    "c_temp = np.linspace(0.1, 55, 200)\n",
    "Pc1 = Pf_Lognorm(c_temp, 10, 1)\n",
    "Pc2 = Pf_Lognorm(c_temp, 40, 1)\n",
    "\n",
    "f, (ax1, ax2) = plt.subplots(2, 1, gridspec_kw={'height_ratios': [3, 1]}, figsize=(2.8,3))\n",
    "\n",
    "for i in range(len(S1_temp)-1): \n",
    "    arg = [kd_plus_v, kd_minus_v, ke_plus_v, ke_minus_v, S1_temp[i], e_v, k_v, Ks_v, Krg_v, Vs_v, Vrg_v, Qt_v,\\\n",
    "       Rt_v, Erkt_v, Scell_v]\n",
    "\n",
    "    Erk_temp = ERK(c_temp, args=arg, varS1=False)\n",
    "    sigma_temp = sigma(c_temp, args=arg, varS1=False)\n",
    "\n",
    "    ax1.plot(c_temp, Erk_temp,label=f'S1 = {np.round(S1_temp[i],1)}', color=color[i])\n",
    "    \n",
    "ax1.axvline(x=10, color='tab:orange', linestyle='--', linewidth=1.5, alpha=0.5)\n",
    "ax2.axvline(x=10, color='tab:orange', linestyle='--', linewidth=1.5, alpha=0.5)\n",
    "\n",
    "ax1.axvline(x=40, color='tab:red', linestyle='--', linewidth=1.5, alpha=0.5)\n",
    "ax2.axvline(x=40, color='tab:red', linestyle='--', linewidth=1.5, alpha=0.5)\n",
    "\n",
    "#cb = plt.colorbar(sm, aspect=20, orientation='vertical', ax=ax1, fraction=0.036, pad=0.08)\n",
    "\n",
    "ax2.plot(c_temp, Pc1, color='tab:orange')\n",
    "ax2.plot(c_temp, Pc2, color='tab:red')\n",
    "ax1.set_ylabel('E*', fontsize=12)\n",
    "ax2.set_ylabel('P(c)', fontsize=12)\n",
    "ax2.set_xlabel('c', fontsize=12)\n",
    "\n",
    "ax2.set_ylim([-0.02, 0.45])\n",
    "\n",
    "plt.tight_layout()\n",
    "plt.savefig('Fig_2e.pdf')\n",
    "plt.show()"
   ]
  },
  {
   "cell_type": "markdown",
   "metadata": {},
   "source": [
    "## Fig. 2(f)"
   ]
  },
  {
   "cell_type": "code",
   "execution_count": 34,
   "metadata": {
    "scrolled": true
   },
   "outputs": [
    {
     "name": "stdout",
     "output_type": "stream",
     "text": [
      "0\n",
      "1\n",
      "2\n",
      "3\n",
      "4\n",
      "5\n",
      "6\n",
      "7\n",
      "8\n",
      "9\n",
      "10\n",
      "11\n",
      "12\n",
      "13\n",
      "14\n",
      "15\n",
      "16\n",
      "17\n",
      "18\n",
      "19\n",
      "20\n",
      "21\n",
      "22\n",
      "23\n",
      "24\n",
      "25\n",
      "26\n",
      "27\n",
      "28\n",
      "29\n",
      "30\n",
      "31\n",
      "32\n",
      "33\n",
      "34\n",
      "35\n",
      "36\n",
      "37\n",
      "38\n",
      "39\n",
      "40\n",
      "41\n",
      "42\n",
      "43\n",
      "44\n",
      "45\n",
      "46\n",
      "47\n",
      "48\n",
      "49\n",
      "50\n",
      "51\n",
      "52\n",
      "53\n",
      "54\n",
      "55\n",
      "56\n",
      "57\n",
      "58\n",
      "59\n"
     ]
    }
   ],
   "source": [
    "# Define the vector S1_temp \n",
    "S1_temp = np.round(np.linspace(S1max/10, S1max, 100),2)\n",
    "   \n",
    "# Define the values of the paramenters\n",
    "arg = [kd_plus_v, kd_minus_v, ke_plus_v, ke_minus_v, S1_v, e_v, k_v, Ks_v, Krg_v, Vs_v, Vrg_v, Qt_v,\\\n",
    "       Rt_v, Erkt_v, Scell_v] # In the presence of ephrin\n",
    "arg_noE = [kd_plus_v, kd_minus_v, ke_plus_v, ke_minus_v, S1_v, 1e-10, k_v, Ks_v, Krg_v, Vs_v, Vrg_v, 1e-8,\\\n",
    "       Rt_v, Erkt_v, Scell_v] # In the absence of ephrin\n",
    "\n",
    "# Update the paramters with the possible values of S1\n",
    "args_temp = [arg[0:4]+[S1_temp[i]]+arg[5:] for i in range(len(S1_temp))]\n",
    "args_temp_noE = [arg_noE[0:4]+[S1_temp[i]]+arg_noE[5:] for i in range(len(S1_temp))]\n",
    "\n",
    "# Vector with the values of mu_c \n",
    "mu_temp = np.linspace(1, 40, 60)\n",
    "\n",
    "Info_S1_cv = []\n",
    "Info_S1_cv_noE = []\n",
    "\n",
    "for k in range(len(mu_temp)): \n",
    "    print(k)\n",
    "    cmin = np.max((mu_temp[k]-5*sigma_F, 1e-3))\n",
    "    cmax = mu_temp[k]+5*sigma_F\n",
    "    c_temp = np.linspace(cmin, cmax, 100)\n",
    "    P_in = Pf_Lognorm(c_temp, sigma_F=sigma_F, mu_c=mu_temp[k])\n",
    "    \n",
    "    # Define the vectors ERK_temp\n",
    "    ERK_S1 = []\n",
    "    ERK_S1_noE = []\n",
    "    for i in range(len(S1_temp)): \n",
    "    \n",
    "        # With ephrin \n",
    "        ERKvmin = ERK(cmin, args=args_temp[i], varS1=False)\n",
    "        ERKvmax = ERK(cmax, args=args_temp[i], varS1=False)\n",
    "\n",
    "        ERKvmin = np.max((1e-4, ERKvmin- ERKvmin/4))\n",
    "        ERKvmax = ERKvmax+ERKvmax/4\n",
    "\n",
    "        ERK_temp = np.linspace(ERKvmin, ERKvmax, 100)\n",
    "\n",
    "        ERK_S1.append(ERK_temp)\n",
    "        \n",
    "        # Without ephrin\n",
    "        ERKvmin_noE = ERK(cmin, args=args_temp_noE[i], varS1=False)\n",
    "        ERKvmax_noE = ERK(cmax, args=args_temp_noE[i], varS1=False)\n",
    "        \n",
    "        ERKvmin_noE = np.max((1e-4, ERKvmin_noE- ERKvmin_noE/4))\n",
    "        ERKvmax_noE = ERKvmax_noE+ERKvmax_noE/4\n",
    "        \n",
    "        ERK_temp_noE = np.linspace(ERKvmin_noE, ERKvmax_noE, 100)\n",
    "        \n",
    "        ERK_S1_noE.append(ERK_temp_noE)\n",
    "        \n",
    "    # Compute the output distribution \n",
    "    Pout = [] \n",
    "    Pout_noE = [] \n",
    "    \n",
    "    for i in range(len(S1_temp)):\n",
    "        Pout.append(PERK(ERK_S1[i], c_temp, Pc=P_in, args=args_temp[i]))\n",
    "        Pout_noE.append(PERK(ERK_S1_noE[i], c_temp, Pc=P_in, args=args_temp_noE[i]))\n",
    "    \n",
    "    # Compute information for different mu_c\n",
    "    \n",
    "    Info_S1_temp_cv = []\n",
    "    Info_S1_temp_cv_noE = []\n",
    "    \n",
    "    for i in range(len(S1_temp)):\n",
    "        Info_S1_temp_cv.append(I(c_temp, ERK_temp= ERK_S1[i], Pin=P_in, Pout= Pout[i], args=args_temp[i]))\n",
    "        Info_S1_temp_cv_noE.append(I(c_temp, ERK_temp= ERK_S1_noE[i], Pin=P_in, Pout= Pout_noE[i], args=args_temp_noE[i]))\n",
    "    \n",
    "    \n",
    "    Info_S1_cv.append(Info_S1_temp_cv)\n",
    "    Info_S1_cv_noE.append(Info_S1_temp_cv_noE)"
   ]
  },
  {
   "cell_type": "code",
   "execution_count": 35,
   "metadata": {},
   "outputs": [],
   "source": [
    "# Compute Imax as a function of mu_c \n",
    "# and the optimal surface S1* as a function of mu_c\n",
    "maxI_cv = []\n",
    "opt_S1 = []\n",
    "\n",
    "for i in range(len(mu_temp)): \n",
    "    maxI_cv.append(np.max(Info_S1_cv[i]))\n",
    "    opt_S1.append(S1_temp[Info_S1_cv[i]==np.max(Info_S1_cv[i])])\n",
    "    \n",
    "maxI_cv_noE = []\n",
    "opt_S1_noE = []\n",
    "\n",
    "for i in range(len(mu_temp)): \n",
    "    maxI_cv_noE.append(np.max(Info_S1_cv_noE[i]))\n",
    "    opt_S1_noE.append(S1_temp[Info_S1_cv_noE[i]==np.max(Info_S1_cv_noE[i])])"
   ]
  },
  {
   "cell_type": "code",
   "execution_count": 36,
   "metadata": {},
   "outputs": [
    {
     "data": {
      "image/png": "[encoded data removed]",
      "text/plain": [
       "<Figure size 320x250 with 2 Axes>"
      ]
     },
     "metadata": {},
     "output_type": "display_data"
    }
   ],
   "source": [
    "# Figure\n",
    "color1 = 'teal'\n",
    "color2 = 'darkred'\n",
    "\n",
    "fig, ax1 = plt.subplots(figsize=(3.2,2.5))\n",
    "\n",
    "ax1.plot(mu_temp, np.array(opt_S1)/Scell_v, color=color1, linewidth=1.5)\n",
    "ax1.plot(mu_temp, np.array(opt_S1_noE)/Scell_v, '--',color=color1, linewidth=1.5, label='Without ephrin')\n",
    "\n",
    "ax1.set_xlabel('$\\\\mu_c$', fontsize=10)\n",
    "ax1.set_ylabel('$S_{1}^*$/$S_{cell}$', fontsize=10, color=color1) \n",
    "ax1.tick_params(axis='y', labelcolor=color2)\n",
    "ax1.spines['left'].set_color(color1)\n",
    "ax1.tick_params(axis='y', colors=color1) \n",
    "\n",
    "ax2 = ax1.twinx() \n",
    "ax2.plot(mu_temp, maxI_cv, '-', color=color2, linewidth=1.5, label='With ephrin')\n",
    "ax2.plot(mu_temp, maxI_cv_noE, '--', color=color2, linewidth=1.5, label='Without ephrin')\n",
    "\n",
    "ax2.set_ylabel('I*(c;E*) (bits)', fontsize=10, color=color2)  # we already handled the x-label with ax1\n",
    "ax2.tick_params(axis='y', labelcolor=color2)\n",
    "ax2.spines['left'].set_color(color1)\n",
    "ax2.spines['right'].set_color(color2)\n",
    "ax2.tick_params(axis='y', colors=color2)\n",
    "\n",
    "fig.tight_layout()\n",
    "plt.savefig('Fig_2f.pdf')\n",
    "plt.show()"
   ]
  },
  {
   "cell_type": "code",
   "execution_count": null,
   "metadata": {},
   "outputs": [],
   "source": []
  }
 ],
 "metadata": {
  "kernelspec": {
   "display_name": "Python 3 (ipykernel)",
   "language": "python",
   "name": "python3"
  },
  "language_info": {
   "codemirror_mode": {
    "name": "ipython",
    "version": 3
   },
   "file_extension": ".py",
   "mimetype": "text/x-python",
   "name": "python",
   "nbconvert_exporter": "python",
   "pygments_lexer": "ipython3",
   "version": "3.12.4"
  }
 },
 "nbformat": 4,
 "nbformat_minor": 4
}
