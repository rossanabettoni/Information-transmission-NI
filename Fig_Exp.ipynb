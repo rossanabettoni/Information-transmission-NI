{
 "cells": [
  {
   "cell_type": "markdown",
   "metadata": {
    "jp-MarkdownHeadingCollapsed": true
   },
   "source": [
    "# Comparison with experimental data\n",
    " Code to reproduce Fig. 1(c), Fig. S1 (a), (b) and (c)\n"
   ]
  },
  {
   "cell_type": "markdown",
   "metadata": {},
   "source": [
    "# Import packages"
   ]
  },
  {
   "cell_type": "code",
   "execution_count": 4,
   "metadata": {},
   "outputs": [],
   "source": [
    "import numpy as np\n",
    "import scipy\n",
    "import matplotlib.pyplot as plt \n",
    "#from scipy import integrate \n",
    "#from scipy.integrate import odeint\n",
    "#from sympy import symbols, solve, simplify\n",
    "#import seaborn as sb\n",
    "import pandas as pd\n",
    "#from scipy.optimize import curve_fit\n",
    "#import sympy as sp\n",
    "plt.rcParams.update({'font.size': 10})\n",
    "import random\n",
    "#import multiprocess as mp\n",
    "#from decimal import *"
   ]
  },
  {
   "cell_type": "code",
   "execution_count": 5,
   "metadata": {},
   "outputs": [],
   "source": [
    "def my_axsis(ax, xlim, ylim, xticks, title, xtickslabels, bold=True, scale='lin'):    \n",
    "    \n",
    "    ax.set_xlim(xlim)\n",
    "    ax.set_ylim(ylim)\n",
    "    ax.set_xticks(xticks)\n",
    "    ax.set_title(title)\n",
    "    ax.set_xticklabels(xtickslabels)\n",
    "    \n",
    "    if bold==True:\n",
    "        for axis in ['top','bottom','left','right']:\n",
    "            ax.spines[axis].set_linewidth(1.2)\n",
    "            \n",
    "    if scale=='log':\n",
    "        ax.set_yscale('log', base=2)"
   ]
  },
  {
   "cell_type": "markdown",
   "metadata": {},
   "source": [
    "# Model "
   ]
  },
  {
   "cell_type": "markdown",
   "metadata": {},
   "source": [
    "Define the standard values of the parameters"
   ]
  },
  {
   "cell_type": "code",
   "execution_count": 8,
   "metadata": {},
   "outputs": [],
   "source": [
    "# Normalized concentration of molecules c_v = [FGF]/[FGF]_0, e_v = [eph]/[eph]_0\n",
    "c_v =  5  \n",
    "e_v =  5 \n",
    "\n",
    "# Total number of molecules in each cell\n",
    "Rt_v =  2000 # Total number of FGF receptors\n",
    "Qt_v =  2000 # Total number of ephrin receptors\n",
    "Erkt_v= 4000 # Total number of ERK molecules\n",
    "\n",
    "# Values of the reaction rates  \n",
    "Kd =  60 \n",
    "kd_plus_v = 0.1  \n",
    "kd_minus_v = Kd*kd_plus_v\n",
    " \n",
    "Ke =  40 \n",
    "ke_plus_v = 0.1 \n",
    "ke_minus_v = Ke*ke_plus_v\n",
    "\n",
    "k_v =  0.2\n",
    "Vs_v=  1*k_v \n",
    "Vrg_v = 0.4*k_v\n",
    "\n",
    "# Values of half saturation constants\n",
    "Ks_v =  200  \n",
    "Krg_v =  200 \n",
    "\n",
    "# Parameters input distribution (Lognormal distr centered around mu_c, with variance sigma_F^2)\n",
    "mu_c = 5 \n",
    "sigma_F =1\n",
    "\n",
    "# Cell surface\n",
    "Scell_v = 6000 # Total cell surface (um^2)\n",
    "S1max = Scell_v/2 # Maximum surface exposed to FGF\n",
    "S1_v = 0.5*Scell_v # Surface exposed to FGF (um^2)\n",
    "\n",
    "# The surface exposed to FGF (S1) is related to the surface exposed to ephrin (S2) through:\n",
    "# S2 = A*S1+B*Scell  (Eq.5) \n",
    "A = -1.1265\n",
    "B = 0.9092"
   ]
  },
  {
   "cell_type": "markdown",
   "metadata": {},
   "source": [
    "Function to compute the number of active ERK molecules ($E^*$) (Eq. 1-3)"
   ]
  },
  {
   "cell_type": "code",
   "execution_count": 10,
   "metadata": {},
   "outputs": [],
   "source": [
    "# Function to compute ERK as a function of the input \n",
    "# ! Here S1 is a relative surface (normalized by the total surface of the cell) ! \n",
    "def ERK(var, args, varS1=True): \n",
    "\n",
    "    if varS1==True: \n",
    "        S1= var \n",
    "        kd_plus, kd_minus, ke_plus, ke_minus, c, e, k, Ks, Krg, Vs, Vrg, Qt, Rt, Erkt, Scell = args\n",
    "    else: \n",
    "        c= var \n",
    "        kd_plus, kd_minus, ke_plus, ke_minus, S1, e, k, Ks, Krg, Vs, Vrg, Qt, Rt, Erkt, Scell = args\n",
    "\n",
    "    S2= A*S1+B\n",
    "    Rb_ss = Rt*S1*c/(c+kd_minus/kd_plus)\n",
    "    Qb_ss = Qt*S2*e/(e+ke_minus/ke_plus)\n",
    "    Erk_ss = Erkt* (Vs*Rb_ss**2/(Rb_ss**2+Ks**2)) /(Vs*Rb_ss**2/(Rb_ss**2+Ks**2) + Vrg*Qb_ss/(Qb_ss+Krg)+ k)\n",
    "        \n",
    "    return np.float32(Erk_ss) "
   ]
  },
  {
   "cell_type": "markdown",
   "metadata": {},
   "source": [
    "Function to compute the level of ERK fluorescence"
   ]
  },
  {
   "cell_type": "code",
   "execution_count": 12,
   "metadata": {},
   "outputs": [],
   "source": [
    "def Fluo(var, A, B): \n",
    "    Fluo_level = var*A+B\n",
    "    return Fluo_level"
   ]
  },
  {
   "cell_type": "markdown",
   "metadata": {},
   "source": [
    "Function to compute the noise in the number of active ERK molecules ($\\sigma_e$) (Eq. 22 - 28)"
   ]
  },
  {
   "cell_type": "code",
   "execution_count": 14,
   "metadata": {},
   "outputs": [],
   "source": [
    "# Function to compute the noise as a function of the input \n",
    "# ! Here S1 is a relative surface (normalized by the total surface of the cell) ! \n",
    "\n",
    "def sigma(var, args, varS1=True):\n",
    "    \n",
    "    if varS1==True: \n",
    "        S1= var \n",
    "        kd_plus, kd_minus, ke_plus, ke_minus, c, e, k, Ks, Krg, Vs, Vrg, Qt, Rt, Erkt, Scell = args\n",
    "    else: \n",
    "        c= var \n",
    "        kd_plus, kd_minus, ke_plus, ke_minus, S1, e, k, Ks, Krg, Vs, Vrg, Qt, Rt, Erkt, Scell = args\n",
    "\n",
    "    S2= A*S1 +B\n",
    "    Rb_ss = Rt*S1*c/(c+kd_minus/kd_plus)\n",
    "    Qb_ss = Qt*S2*e/(e+ke_minus/ke_plus)\n",
    "    Erk_ss = Erkt* (Vs*Rb_ss**2/(Rb_ss**2+Ks**2)) /(Vs*Rb_ss**2/(Rb_ss**2+Ks**2) + Vrg*Qb_ss/(Qb_ss+Krg)+ k)\n",
    "\n",
    "    Tau_c = (kd_plus*c+kd_minus)**(-1)\n",
    "    Tau_e = (ke_plus*e+ke_minus)**(-1)\n",
    "    Tau_E = (k + Vs*Rb_ss**2/(Rb_ss**2+Ks**2) + Vrg*Qb_ss/(Qb_ss+Krg) )**(-1)\n",
    "\n",
    "    Gamma_R = 2*Vs*Rb_ss*Ks**2/(Rb_ss**2+Ks**2)**2*(Erkt-Erk_ss)\n",
    "    Gamma_Q = Vrg*Krg/(Qb_ss+Krg)**2*Erk_ss\n",
    "\n",
    "    n_ss = c*kd_plus/(kd_minus + c*kd_plus)\n",
    "    m_ss = e*ke_plus/(ke_minus + e*ke_plus)\n",
    "\n",
    "    A_R = 2/Tau_c*Rt*S1*n_ss*(1-n_ss)\n",
    "    A_Q = 2/Tau_e*Qt*S2*m_ss*(1-m_ss)\n",
    "    A_E = 2*Vs*Rb_ss**2/(Rb_ss**2+Ks**2)*(Erkt-Erk_ss)\n",
    "\n",
    "    sigma_R = Gamma_R**2*A_R/2*(Tau_c-Tau_E)/(Tau_E**(-2)-Tau_c**(-2))\n",
    "    sigma_Q = Gamma_Q**2*A_Q/2*(Tau_e-Tau_E)/(Tau_E**(-2)-Tau_e**(-2))\n",
    "    sigma_E = A_E/2*Tau_E\n",
    "\n",
    "    sigma2 = sigma_R + sigma_Q + sigma_E\n",
    "        \n",
    "    return np.float32(np.sqrt(sigma2))"
   ]
  },
  {
   "cell_type": "markdown",
   "metadata": {},
   "source": [
    "# Import experimental data "
   ]
  },
  {
   "cell_type": "code",
   "execution_count": 16,
   "metadata": {},
   "outputs": [],
   "source": [
    "data_S1 = pd.read_excel('./ExpData.xlsx', sheet_name='Cell surface contacts')\n",
    "df_S1 = pd.DataFrame(data_S1)\n",
    "\n",
    "data_Fig1c = pd.read_excel('./ExpData.xlsx', sheet_name='Fig 1(c)')\n",
    "df_Fig1c = pd.DataFrame(data_Fig1c)\n",
    "\n",
    "data_FigS1a = pd.read_excel('./ExpData.xlsx', sheet_name='Fig S1(a)')\n",
    "df_FigS1a = pd.DataFrame(data_FigS1a)\n",
    "\n",
    "data_FigS1b = pd.read_excel('./ExpData.xlsx', sheet_name='Fig S1(b)')\n",
    "df_FigS1b = pd.DataFrame(data_FigS1b)\n",
    "\n",
    "data_FigS1c = pd.read_excel('./ExpData.xlsx', sheet_name='Fig S1(c)')\n",
    "df_FigS1c = pd.DataFrame(data_FigS1c)"
   ]
  },
  {
   "cell_type": "markdown",
   "metadata": {},
   "source": [
    "## Fig. 1(c)"
   ]
  },
  {
   "cell_type": "markdown",
   "metadata": {},
   "source": [
    "Experimental data "
   ]
  },
  {
   "cell_type": "code",
   "execution_count": 19,
   "metadata": {},
   "outputs": [],
   "source": [
    "# Relative S1 values\n",
    "a65_S1 = np.array(df_Fig1c['a6.5 fgf relatif'].values.tolist())\n",
    "a66_S1 = np.array(df_Fig1c['a6.6 fgf relatif'].values.tolist())\n",
    "a67_S1 = np.array(df_Fig1c['a6.7 fgf relatif'].values.tolist())\n",
    "a68_S1 = np.array(df_Fig1c['a6.8 fgf relatif'].values.tolist())\n",
    "\n",
    "# Levels of ERK fluorescence \n",
    "a65_Erk = np.array(df_Fig1c['a6.5 dpERK'].values.tolist())\n",
    "a66_Erk = np.array(df_Fig1c['a6.6 dpERK'].values.tolist())\n",
    "a67_Erk = np.array(df_Fig1c['a6.7 dpERK'].values.tolist())\n",
    "a68_Erk = np.array(df_Fig1c['a6.8 dpERK'].values.tolist())"
   ]
  },
  {
   "cell_type": "markdown",
   "metadata": {},
   "source": [
    "Model predictions"
   ]
  },
  {
   "cell_type": "code",
   "execution_count": 21,
   "metadata": {},
   "outputs": [],
   "source": [
    "S1_temp = np.linspace(0.03, 0.4, 100)\n",
    "\n",
    "arg = [kd_plus_v, kd_minus_v, ke_plus_v, ke_minus_v, c_v, e_v, k_v, Ks_v, Krg_v, Vs_v, Vrg_v, Qt_v,\\\n",
    "       Rt_v, Erkt_v, Scell_v]\n",
    "\n",
    "# Compute the number of active ERK molecules as a function of S1 \n",
    "Erk_pred = ERK(S1_temp, args=arg, varS1=True) \n",
    "\n",
    "# Compute the noise in the number of active ERK molecules\n",
    "noise_pred = sigma(S1_temp, args=arg, varS1=True)\n",
    "\n",
    "# Convert the number of ERK molecules and noise into levels of fluorescence\n",
    "Af = 8000\n",
    "Bf = 280\n",
    "Erk_fluo = Fluo(Erk_pred/Erkt_v, Af, Bf)\n",
    "noise_fluo = Af/Erkt_v*noise_pred\n"
   ]
  },
  {
   "cell_type": "code",
   "execution_count": 22,
   "metadata": {},
   "outputs": [
    {
     "data": {
      "image/png": "[encoded data removed]",
      "text/plain": [
       "<Figure size 370x300 with 1 Axes>"
      ]
     },
     "metadata": {},
     "output_type": "display_data"
    }
   ],
   "source": [
    "S1_temp_plot=S1_temp \n",
    "\n",
    "fig= plt.figure(figsize=(3.7,3.))\n",
    "plt.fill_between(S1_temp_plot,Erk_fluo - noise_fluo, Erk_fluo + noise_fluo, alpha=0.2, color= '0.2')\n",
    "plt.plot(S1_temp_plot, Erk_fluo,'-',alpha=1, color= '0.2', label='Model', zorder=1)\n",
    "\n",
    "plt.plot(a65_S1, a65_Erk, '.', markersize=8, color='orchid', zorder=1)\n",
    "plt.plot(a66_S1, a66_Erk, '.', markersize=8, color='tab:green', zorder=1)\n",
    "plt.plot(a67_S1, a67_Erk, '.', markersize=8, color='tab:blue', zorder=1)\n",
    "plt.plot(a68_S1, a68_Erk, '.', markersize=8, color='grey', zorder=1)\n",
    "\n",
    "plt.legend(fontsize=12)\n",
    "\n",
    "plt.xlabel('Relative surface \\n exposed to FGF ($S_1/S_{cell}$)', fontsize=12)\n",
    "plt.ylabel('nuclear IF dpErk signal', fontsize=12)\n",
    "\n",
    "plt.tight_layout()\n",
    "plt.savefig('Fig_S1c.pdf')\n",
    "plt.show()"
   ]
  },
  {
   "cell_type": "markdown",
   "metadata": {},
   "source": [
    "## Fig. S1(a)"
   ]
  },
  {
   "cell_type": "markdown",
   "metadata": {},
   "source": [
    "Experimental data "
   ]
  },
  {
   "cell_type": "code",
   "execution_count": 25,
   "metadata": {},
   "outputs": [],
   "source": [
    "# Reltive area of cell surface contact with FGF expressing cells (divided by cell type)\n",
    "a65_RelContactArea_A = np.array(df_S1['a6.5 S1'].values.tolist())[0:25] \n",
    "a66_RelContactArea_A = np.array(df_S1['a6.6 S1'].values.tolist())[0:25] \n",
    "a67_RelContactArea_A = np.array(df_S1['a6.7 S1'].values.tolist())[0:25] \n",
    "a68_RelContactArea_A = np.array(df_S1['a6.8 S1'].values.tolist())[0:25] \n",
    "\n",
    "# Measured levels of Erk fluorescence \n",
    "a65_Erk_2A = np.array(df_FigS1a['a6.5'].values.tolist())\n",
    "a66_Erk_2A = np.array(df_FigS1a['a6.6'].values.tolist())\n",
    "a67_Erk_2A = np.array(df_FigS1a['a6.7'].values.tolist())\n",
    "a68_Erk_2A = np.array(df_FigS1a['a6.8'].values.tolist())\n",
    "\n",
    "# Compute the mean of the experimental data\n",
    "mean_a65_Erk_2A = np.mean(a65_Erk_2A)\n",
    "mean_a66_Erk_2A = np.mean(a66_Erk_2A)\n",
    "mean_a67_Erk_2A = np.mean(a67_Erk_2A)\n",
    "mean_a68_Erk_2A = np.mean(a68_Erk_2A)\n",
    "\n",
    "mean_Erk_exp = [mean_a68_Erk_2A,mean_a66_Erk_2A,mean_a67_Erk_2A,mean_a65_Erk_2A]\n",
    "\n",
    "# Compute the standard deviation of the experimental data\n",
    "sdev_a65_Erk_exp = np.std(a65_Erk_2A)\n",
    "sdev_a66_Erk_exp = np.std(a66_Erk_2A)\n",
    "sdev_a67_Erk_exp = np.std(a67_Erk_2A)\n",
    "sdev_a68_Erk_exp = np.std(a68_Erk_2A)\n",
    "\n",
    "Std_exp = [sdev_a68_Erk_exp,sdev_a66_Erk_exp,sdev_a67_Erk_exp,sdev_a65_Erk_exp]"
   ]
  },
  {
   "cell_type": "markdown",
   "metadata": {},
   "source": [
    "Model predictions"
   ]
  },
  {
   "cell_type": "code",
   "execution_count": 27,
   "metadata": {},
   "outputs": [],
   "source": [
    "arg = [kd_plus_v, kd_minus_v, ke_plus_v, ke_minus_v, c_v, e_v, k_v, Ks_v, Krg_v, Vs_v, Vrg_v, Qt_v,\\\n",
    "       Rt_v, Erkt_v, Scell_v]\n",
    "\n",
    "# Compute the number of active ERK molecules \n",
    "ERK_a65_pred = ERK(a65_RelContactArea_A, args=arg, varS1=True)\n",
    "ERK_a66_pred = ERK(a66_RelContactArea_A, args=arg, varS1=True)\n",
    "ERK_a67_pred = ERK(a67_RelContactArea_A, args=arg, varS1=True)\n",
    "ERK_a68_pred = ERK(a68_RelContactArea_A, args=arg, varS1=True)\n",
    "\n",
    "# Compute the noise in the number of active ERK molecules \n",
    "sigma_a65_pred = sigma(a65_RelContactArea_A, args=arg, varS1=True)\n",
    "sigma_a66_pred = sigma(a66_RelContactArea_A, args=arg, varS1=True)\n",
    "sigma_a67_pred = sigma(a67_RelContactArea_A, args=arg, varS1=True)\n",
    "sigma_a68_pred = sigma(a68_RelContactArea_A, args=arg, varS1=True)\n",
    "\n",
    "\n",
    "# Compute ERK fluorescence \n",
    "Af = 5000\n",
    "Bf = 140\n",
    "\n",
    "Fluo_a65_pred = Fluo(ERK_a65_pred/Erkt_v, Af, Bf)\n",
    "Fluo_a66_pred = Fluo(ERK_a66_pred/Erkt_v, Af, Bf)\n",
    "Fluo_a67_pred = Fluo(ERK_a67_pred/Erkt_v, Af, Bf)\n",
    "Fluo_a68_pred = Fluo(ERK_a68_pred/Erkt_v, Af, Bf)\n",
    "\n",
    "# Compute the noise in the ERK fluorescence \n",
    "noise_fluo_a65_pred = Af/Erkt_v*sigma_a65_pred\n",
    "noise_fluo_a66_pred = Af/Erkt_v*sigma_a66_pred\n",
    "noise_fluo_a67_pred = Af/Erkt_v*sigma_a67_pred\n",
    "noise_fluo_a68_pred = Af/Erkt_v*sigma_a68_pred\n",
    "\n",
    "# Compute the mean Erk value for each cell type \n",
    "mean_a65_Fluo_model= np.mean(Fluo_a65_pred) \n",
    "mean_a66_Fluo_model= np.mean(Fluo_a66_pred)\n",
    "mean_a67_Fluo_model= np.mean(Fluo_a67_pred)\n",
    "mean_a68_Fluo_model= np.mean(Fluo_a68_pred)\n",
    "Erk_mean_2A = [mean_a65_Fluo_model, mean_a66_Fluo_model, mean_a67_Fluo_model, mean_a68_Fluo_model]\n",
    "\n",
    "# Compute the mean of the noise\n",
    "sdev_a65_Fluo_model = np.sqrt( (1/25*np.sqrt(np.sum(noise_fluo_a65_pred**2)))**2 + (np.std(Fluo_a65_pred)**2) )\n",
    "sdev_a66_Fluo_model = np.sqrt( (1/25*np.sqrt(np.sum(noise_fluo_a66_pred**2)))**2 + (np.std(Fluo_a66_pred)**2) )\n",
    "sdev_a67_Fluo_model = np.sqrt( (1/25*np.sqrt(np.sum(noise_fluo_a67_pred**2)))**2 + (np.std(Fluo_a67_pred)**2) )\n",
    "sdev_a68_Fluo_model = np.sqrt( (1/25*np.sqrt(np.sum(noise_fluo_a68_pred**2)))**2 + (np.std(Fluo_a68_pred)**2) )\n"
   ]
  },
  {
   "cell_type": "code",
   "execution_count": 28,
   "metadata": {},
   "outputs": [
    {
     "data": {
      "image/png": "[encoded data removed]",
      "text/plain": [
       "<Figure size 400x300 with 4 Axes>"
      ]
     },
     "metadata": {},
     "output_type": "display_data"
    }
   ],
   "source": [
    "fig = plt.figure(figsize=(4.,3.))\n",
    "gs = fig.add_gridspec(1,4, hspace=0,wspace=0)\n",
    "axs = gs.subplots(sharey=True)\n",
    "\n",
    "# a6.8 \n",
    "x = np.random.normal(1, 0.08, size=len(a68_Erk_2A))\n",
    "axs[0].plot(x,a68_Erk_2A,'.', color='xkcd:silver', alpha=1,markersize=4,zorder=1)\n",
    "\n",
    "x = 1 \n",
    "axs[0].errorbar(x,mean_a68_Erk_2A ,sdev_a68_Erk_exp, marker='o',markersize=3,color='black', capsize=5,mfc='black', mec='black', ls='none',zorder=2)\n",
    "\n",
    "x = np.random.normal(2, 0.08, size=len(Fluo_a68_pred))\n",
    "axs[0].plot(x,Fluo_a68_pred,'.', color='xkcd:silver', alpha=1,markersize=4,zorder=1)\n",
    "\n",
    "x = 2 \n",
    "axs[0].errorbar(x,mean_a68_Fluo_model ,sdev_a68_Fluo_model, marker='o',markersize=3,color='black', capsize=5,mfc='black', mec='black', ls='none',zorder=2)\n",
    "\n",
    "my_axsis(axs[0], xlim=[0.5,2.5], ylim=[2**6,900], xticks=[1,2], title='a6.8', xtickslabels=['Exp', 'Model'], bold=True, scale='lin')\n",
    "axs[0].set_ylabel('nuclear dpErk signal')\n",
    "   \n",
    "# a6.6 \n",
    "x = np.random.normal(1, 0.08, size=len(a66_Erk_2A))\n",
    "axs[1].plot(x,a66_Erk_2A,'.', color='xkcd:boring green', alpha=1, markersize=4,zorder=1)\n",
    "\n",
    "x = 1 \n",
    "axs[1].errorbar(x,mean_a66_Erk_2A ,sdev_a66_Erk_exp, marker='o',markersize=3,color='black', capsize=5,mfc='black', mec='black', ls='none',zorder=2)\n",
    "\n",
    "x = np.random.normal(2, 0.08, size=len(Fluo_a66_pred))\n",
    "axs[1].plot(x,Fluo_a66_pred,'.', color='xkcd:boring green', alpha=1, markersize=4,zorder=1)\n",
    "\n",
    "x = 2 \n",
    "axs[1].errorbar(x,mean_a66_Fluo_model, sdev_a66_Fluo_model, marker='o',markersize=3,color='black', capsize=5,mfc='black', mec='black', ls='none',zorder=2)\n",
    "\n",
    "my_axsis(axs[1], xlim=[0.5,2.5], ylim=[2**6,900], xticks=[1,2], title='a6.6', xtickslabels=['Exp', 'Model'], bold=True, scale='lin')\n",
    "\n",
    "# a6.7 \n",
    "x = np.random.normal(1, 0.08, size=len(a67_Erk_2A))\n",
    "axs[2].plot(x,a67_Erk_2A,'.', color='xkcd:light grey blue', alpha=1,markersize=4,zorder=1)\n",
    "\n",
    "x = 1 \n",
    "axs[2].errorbar(x,mean_a67_Erk_2A ,sdev_a67_Erk_exp, marker='o',markersize=3,color='black', capsize=5,mfc='black', mec='black', ls='none',zorder=2)\n",
    "\n",
    "x = np.random.normal(2, 0.08, size=len(Fluo_a67_pred))\n",
    "axs[2].plot(x,Fluo_a67_pred,'.', color='xkcd:light grey blue', alpha=1,markersize=4,zorder=1)\n",
    "\n",
    "x = 2 \n",
    "axs[2].errorbar(x,mean_a67_Fluo_model, sdev_a67_Fluo_model, marker='o',markersize=3,color='black', capsize=5,mfc='black', mec='black', ls='none',zorder=2)\n",
    "\n",
    "my_axsis(axs[2], xlim=[0.5,2.5], ylim=[2**6,900], xticks=[1,2], title='a6.7', xtickslabels=['Exp', 'Model'], bold=True, scale='lin')\n",
    "\n",
    "# a6.5\n",
    "x = np.random.normal(1, 0.08, size=len(a65_Erk_2A))\n",
    "axs[3].plot(x,a65_Erk_2A,'.', color='plum', alpha=1,markersize=4,zorder=1)\n",
    "\n",
    "x = 1 \n",
    "axs[3].errorbar(x,mean_a65_Erk_2A ,sdev_a65_Erk_exp, marker='o',markersize=3,color='black', capsize=5,mfc='black', mec='black', ls='none',zorder=2)\n",
    "\n",
    "x = np.random.normal(2, 0.08, size=len(Fluo_a65_pred))\n",
    "axs[3].plot(x,Fluo_a65_pred,'.', color='plum', alpha=1,markersize=4,zorder=1)\n",
    "\n",
    "x = 2 \n",
    "axs[3].errorbar(x,mean_a65_Fluo_model, sdev_a65_Fluo_model, marker='o',markersize=3,color='black', capsize=5,mfc='black', mec='black', ls='none',zorder=2)\n",
    "\n",
    "my_axsis(axs[3], xlim=[0.5,2.5], ylim=[2**6,900], xticks=[1,2], title='a6.5', xtickslabels=['Exp', 'Model'], bold=True, scale='lin')\n",
    "\n",
    "plt.tight_layout()\n",
    "plt.savefig('Fig_S1a.pdf')\n",
    "plt.show()\n"
   ]
  },
  {
   "cell_type": "markdown",
   "metadata": {},
   "source": [
    "## Fig. S1(b)"
   ]
  },
  {
   "cell_type": "markdown",
   "metadata": {},
   "source": [
    "Experimental data "
   ]
  },
  {
   "cell_type": "code",
   "execution_count": 31,
   "metadata": {},
   "outputs": [],
   "source": [
    "# Convert the databases into lists \n",
    "a65_Erk_S1C = np.array(df_FigS1b['a6.5'].values.tolist())\n",
    "a66_Erk_S1C = np.array(df_FigS1b['a6.6'].values.tolist())\n",
    "a67_Erk_S1C = np.array(df_FigS1b['a6.7'].values.tolist())\n",
    "a68_Erk_S1C = np.array(df_FigS1b['a6.8'].values.tolist())\n",
    "\n",
    "# Compute means of exp data\n",
    "mean_a65_Erk_S1C = np.mean(a65_Erk_S1C)\n",
    "mean_a66_Erk_S1C = np.mean(a66_Erk_S1C)\n",
    "mean_a67_Erk_S1C = np.mean(a67_Erk_S1C)\n",
    "mean_a68_Erk_S1C = np.mean(a68_Erk_S1C)\n",
    "\n",
    "mean_Erk_exp_S1C = [mean_a65_Erk_S1C, mean_a66_Erk_S1C, mean_a67_Erk_S1C, mean_a68_Erk_S1C]\n",
    "\n",
    "# Compute std of exp data\n",
    "sdev_a65_S1C = np.std(a65_Erk_S1C)\n",
    "sdev_a66_S1C = np.std(a66_Erk_S1C)\n",
    "sdev_a67_S1C = np.std(a67_Erk_S1C)\n",
    "sdev_a68_S1C = np.std(a68_Erk_S1C)"
   ]
  },
  {
   "cell_type": "markdown",
   "metadata": {},
   "source": [
    "Model predictions "
   ]
  },
  {
   "cell_type": "code",
   "execution_count": 33,
   "metadata": {},
   "outputs": [],
   "source": [
    "arg = [kd_plus_v, kd_minus_v, ke_plus_v, ke_minus_v, c_v, e_v, k_v, Ks_v, Krg_v, Vs_v, Vrg_v, Qt_v,\\\n",
    "       Rt_v, Erkt_v, Scell_v]\n",
    "\n",
    "# Compute the number of active ERK molecules \n",
    "ERK_a65_pred_S1C = ERK(a65_RelContactArea_A, args=arg, varS1=True)\n",
    "ERK_a66_pred_S1C = ERK(a66_RelContactArea_A, args=arg, varS1=True)\n",
    "ERK_a67_pred_S1C = ERK(a67_RelContactArea_A, args=arg, varS1=True)\n",
    "ERK_a68_pred_S1C = ERK(a68_RelContactArea_A, args=arg, varS1=True)\n",
    "\n",
    "# Compute ERK fluorescence \n",
    "Af = 8000\n",
    "Bf = 180\n",
    "\n",
    "Fluo_a65_pred_S1C = Fluo(ERK_a65_pred_S1C/Erkt_v, Af, Bf)\n",
    "Fluo_a66_pred_S1C = Fluo(ERK_a66_pred_S1C/Erkt_v, Af, Bf)\n",
    "Fluo_a67_pred_S1C = Fluo(ERK_a67_pred_S1C/Erkt_v, Af, Bf)\n",
    "Fluo_a68_pred_S1C = Fluo(ERK_a68_pred_S1C/Erkt_v, Af, Bf)\n",
    "\n",
    "# Compute the mean Erk value for each cell type (with our model)\n",
    "mean_a65_Fluo_model_S1C= np.mean(Fluo_a65_pred_S1C) \n",
    "mean_a66_Fluo_model_S1C= np.mean(Fluo_a66_pred_S1C)\n",
    "mean_a67_Fluo_model_S1C= np.mean(Fluo_a67_pred_S1C)\n",
    "mean_a68_Fluo_model_S1C= np.mean(Fluo_a68_pred_S1C)\n",
    "Erk_mean_S1C = [mean_a65_Fluo_model_S1C, mean_a66_Fluo_model_S1C, mean_a67_Fluo_model_S1C, mean_a68_Fluo_model_S1C]\n",
    "\n",
    "# Compute the noise for each cell type \n",
    "sdev_a65_Fluo_model_S1C = np.std(Fluo_a65_pred_S1C)\n",
    "sdev_a66_Fluo_model_S1C = np.std(Fluo_a66_pred_S1C)\n",
    "sdev_a67_Fluo_model_S1C = np.std(Fluo_a67_pred_S1C)\n",
    "sdev_a68_Fluo_model_S1C = np.std(Fluo_a68_pred_S1C)"
   ]
  },
  {
   "cell_type": "code",
   "execution_count": 34,
   "metadata": {},
   "outputs": [
    {
     "data": {
      "image/png": "[encoded data removed]",
      "text/plain": [
       "<Figure size 400x300 with 4 Axes>"
      ]
     },
     "metadata": {},
     "output_type": "display_data"
    }
   ],
   "source": [
    "fig = plt.figure(figsize=(4.,3.))\n",
    "gs = fig.add_gridspec(1,4, hspace=0,wspace=0)\n",
    "axs = gs.subplots(sharey=True)\n",
    "\n",
    "# a6.8 \n",
    "x = np.random.normal(1, 0.08, size=len(a68_Erk_S1C))\n",
    "axs[0].plot(x,a68_Erk_S1C,'.', color='xkcd:silver', alpha=1,markersize=4,zorder=1)\n",
    "\n",
    "x = 1 \n",
    "axs[0].errorbar(x,mean_a68_Erk_S1C ,sdev_a68_S1C, marker='o',markersize=3,color='black', capsize=5,mfc='black', mec='black', ls='none',zorder=2)\n",
    "\n",
    "x = np.random.normal(2, 0.08, size=len(Fluo_a68_pred_S1C))\n",
    "axs[0].plot(x,Fluo_a68_pred_S1C,'.', color='xkcd:silver', alpha=1,markersize=4,zorder=1)\n",
    "\n",
    "x = 2 \n",
    "axs[0].errorbar(x,mean_a68_Fluo_model_S1C ,sdev_a68_Fluo_model_S1C, marker='o',markersize=3,color='black', capsize=5,mfc='black', mec='black', ls='none',zorder=2)\n",
    "\n",
    "my_axsis(axs[0], xlim=[0.5,2.5], ylim=[0,1500], xticks=[1,2], title='a6.8', xtickslabels=['Exp', 'Model'], bold=True, scale='lin')\n",
    "axs[0].set_ylabel('nuclear dpErk signal')\n",
    "   \n",
    "# a6.6 \n",
    "x = np.random.normal(1, 0.08, size=len(a66_Erk_S1C))\n",
    "axs[1].plot(x,a66_Erk_S1C,'.', color='xkcd:boring green', alpha=1, markersize=4,zorder=1)\n",
    "\n",
    "x = 1 \n",
    "axs[1].errorbar(x,mean_a66_Erk_S1C ,sdev_a66_S1C, marker='o',markersize=3,color='black', capsize=5,mfc='black', mec='black', ls='none',zorder=2)\n",
    "\n",
    "x = np.random.normal(2, 0.08, size=len(Fluo_a66_pred_S1C))\n",
    "axs[1].plot(x,Fluo_a66_pred_S1C,'.', color='xkcd:boring green', alpha=1, markersize=4,zorder=1)\n",
    "\n",
    "x = 2 \n",
    "axs[1].errorbar(x,mean_a66_Fluo_model_S1C, sdev_a66_Fluo_model_S1C, marker='o',markersize=3,color='black', capsize=5,mfc='black', mec='black', ls='none',zorder=2)\n",
    "\n",
    "my_axsis(axs[1], xlim=[0.5,2.5], ylim=[0,1500], xticks=[1,2], title='a6.6', xtickslabels=['Exp', 'Model'], bold=True, scale='lin')\n",
    "\n",
    "# a6.7 \n",
    "x = np.random.normal(1, 0.08, size=len(a67_Erk_S1C))\n",
    "axs[2].plot(x,a67_Erk_S1C,'.', color='xkcd:light grey blue', alpha=1,markersize=4,zorder=1)\n",
    "\n",
    "x = 1 \n",
    "axs[2].errorbar(x,mean_a67_Erk_S1C ,sdev_a67_S1C, marker='o',markersize=3,color='black', capsize=5,mfc='black', mec='black', ls='none',zorder=2)\n",
    "\n",
    "x = np.random.normal(2, 0.08, size=len(Fluo_a67_pred_S1C))\n",
    "axs[2].plot(x,Fluo_a67_pred_S1C,'.', color='xkcd:light grey blue', alpha=1,markersize=4,zorder=1)\n",
    "\n",
    "x = 2 \n",
    "axs[2].errorbar(x,mean_a67_Fluo_model_S1C, sdev_a67_Fluo_model_S1C, marker='o',markersize=3,color='black', capsize=5,mfc='black', mec='black', ls='none',zorder=2)\n",
    "\n",
    "my_axsis(axs[2], xlim=[0.5,2.5], ylim=[0,1500], xticks=[1,2], title='a6.7', xtickslabels=['Exp', 'Model'], bold=True, scale='lin')\n",
    "\n",
    "# a6.5\n",
    "x = np.random.normal(1, 0.08, size=len(a65_Erk_S1C))\n",
    "axs[3].plot(x,a65_Erk_S1C,'.', color='plum', alpha=1,markersize=4,zorder=1)\n",
    "\n",
    "x = 1 \n",
    "axs[3].errorbar(x,mean_a65_Erk_S1C ,sdev_a65_S1C, marker='o',markersize=3,color='black', capsize=5,mfc='black', mec='black', ls='none',zorder=2)\n",
    "\n",
    "x = np.random.normal(2, 0.08, size=len(Fluo_a65_pred_S1C))\n",
    "axs[3].plot(x,Fluo_a65_pred_S1C,'.', color='plum', alpha=1,markersize=4,zorder=1)\n",
    "\n",
    "x = 2 \n",
    "axs[3].errorbar(x,mean_a65_Fluo_model_S1C, sdev_a65_Fluo_model_S1C, marker='o',markersize=3,color='black', capsize=5,mfc='black', mec='black', ls='none',zorder=2)\n",
    "\n",
    "my_axsis(axs[3], xlim=[0.5,2.5], ylim=[0,1500], xticks=[1,2], title='a6.5', xtickslabels=['Exp', 'Model'], bold=True, scale='lin')\n",
    "\n",
    "plt.tight_layout()\n",
    "plt.savefig('Fig_S1b.pdf')\n",
    "plt.show()\n",
    "\n",
    "\n"
   ]
  },
  {
   "cell_type": "markdown",
   "metadata": {},
   "source": [
    "## Fig. S1(c)"
   ]
  },
  {
   "cell_type": "markdown",
   "metadata": {},
   "source": [
    "Experimental data "
   ]
  },
  {
   "cell_type": "code",
   "execution_count": 37,
   "metadata": {},
   "outputs": [],
   "source": [
    "# Relative contact area with FGF expressing cells \n",
    "a65_S1_noE = np.array(df_FigS1c['a65 fgf relatif'].values.tolist())\n",
    "a66_S1_noE = np.array(df_FigS1c['a66 fgf relatif'].values.tolist())\n",
    "a67_S1_noE = np.array(df_FigS1c['a67 fgf relatif'].values.tolist())\n",
    "a68_S1_noE = np.array(df_FigS1c['a68 fgf relatif'].values.tolist())\n",
    "\n",
    "# ERK fluorescence level\n",
    "a65_Erk_noE = np.array(df_FigS1c['a65 dpERK'].values.tolist())\n",
    "a66_Erk_noE = np.array(df_FigS1c['a66 dpERK'].values.tolist())\n",
    "a67_Erk_noE = np.array(df_FigS1c['a67 dpERK'].values.tolist())\n",
    "a68_Erk_noE = np.array(df_FigS1c['a68 dpERK'].values.tolist())"
   ]
  },
  {
   "cell_type": "markdown",
   "metadata": {},
   "source": [
    "Model predictions"
   ]
  },
  {
   "cell_type": "code",
   "execution_count": 39,
   "metadata": {},
   "outputs": [],
   "source": [
    "S1_temp = np.linspace(0.03, 0.35, 100)\n",
    "c_v = 5\n",
    "e_v= 1e-10\n",
    "arg = [kd_plus_v, kd_minus_v, ke_plus_v, ke_minus_v, c_v, e_v, k_v, Ks_v, Krg_v, Vs_v, Vrg_v, Qt_v,\\\n",
    "       Rt_v, Erkt_v, Scell_v]\n",
    "\n",
    "# Compute Erk as a function of S1 (The model computes the number of ERK molecules)\n",
    "Erk_pred_noeph = ERK(S1_temp, args=arg, varS1=True) \n",
    "noise_pred_noeph = sigma(S1_temp, args= arg, varS1=True)\n",
    "\n",
    "\n",
    "# Convert the number of ERK molecules into levels of fluorescence\n",
    "Af = 10000\n",
    "Bf = 250\n",
    "noise_fluo_noE = np.sqrt( (Af/Erkt_v*noise_pred_noeph)**2 )  # + (np.nanstd(a68_Erk_noE))**2 )\n",
    "\n",
    "Erk_fluo_noeph = Fluo(Erk_pred_noeph/Erkt_v, Af, Bf)\n",
    "Erk_fluo_minusnoise_noeph = Erk_fluo_noeph - noise_fluo_noE\n",
    "Erk_fluo_plusnoise_noeph = Erk_fluo_noeph + noise_fluo_noE\n"
   ]
  },
  {
   "cell_type": "code",
   "execution_count": 40,
   "metadata": {},
   "outputs": [
    {
     "data": {
      "image/png": "[encoded data removed]",
      "text/plain": [
       "<Figure size 380x300 with 1 Axes>"
      ]
     },
     "metadata": {},
     "output_type": "display_data"
    }
   ],
   "source": [
    "S1_temp_plot= S1_temp\n",
    "\n",
    "fig= plt.figure(figsize=(3.8,3))\n",
    "plt.fill_between(S1_temp_plot, Erk_fluo_minusnoise_noeph, Erk_fluo_plusnoise_noeph, alpha=0.2, color= '0.2')\n",
    "plt.plot(S1_temp_plot, Erk_fluo_noeph,'-',alpha=1, color= '0.2', label='Model', zorder=2)\n",
    "\n",
    "plt.plot(a65_S1_noE, a65_Erk_noE,'.', markersize=8, color='orchid', zorder=1)\n",
    "plt.plot(a66_S1_noE, a66_Erk_noE,'.', markersize=8, color='tab:green', zorder=1)\n",
    "plt.plot(a67_S1_noE, a67_Erk_noE,'.', markersize=8, color='tab:blue', zorder=1)\n",
    "plt.plot(a68_S1_noE, a68_Erk_noE,'.', markersize=8, color='grey', zorder=1)\n",
    "\n",
    "#plt.title('In the absence of ephrin', fontsize=14)\n",
    "\n",
    "plt.legend(fontsize=12)\n",
    "plt.xlabel('Relative surface \\n exposed to FGF ($S_1/S_{cell}$)', fontsize=12)\n",
    "plt.ylabel('nuclear IF dpErk signal', fontsize=12)\n",
    "plt.tight_layout()\n",
    "plt.savefig('Fig_S1c.pdf')\n",
    "plt.show()"
   ]
  },
  {
   "cell_type": "code",
   "execution_count": null,
   "metadata": {},
   "outputs": [],
   "source": []
  }
 ],
 "metadata": {
  "kernelspec": {
   "display_name": "Python 3 (ipykernel)",
   "language": "python",
   "name": "python3"
  },
  "language_info": {
   "codemirror_mode": {
    "name": "ipython",
    "version": 3
   },
   "file_extension": ".py",
   "mimetype": "text/x-python",
   "name": "python",
   "nbconvert_exporter": "python",
   "pygments_lexer": "ipython3",
   "version": "3.12.4"
  }
 },
 "nbformat": 4,
 "nbformat_minor": 4
}
